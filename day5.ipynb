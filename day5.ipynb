{
  "cells": [
    {
      "cell_type": "markdown",
      "metadata": {
        "id": "view-in-github",
        "colab_type": "text"
      },
      "source": [
        "<a href=\"https://colab.research.google.com/github/channy33/Sesac_lecture/blob/master/day5.ipynb\" target=\"_parent\"><img src=\"https://colab.research.google.com/assets/colab-badge.svg\" alt=\"Open In Colab\"/></a>"
      ]
    },
    {
      "cell_type": "code",
      "execution_count": null,
      "metadata": {
        "id": "IoL70iynl0WL"
      },
      "outputs": [],
      "source": [
        "# AND OR 연산자를 코드로 구현하시오"
      ]
    },
    {
      "cell_type": "code",
      "execution_count": null,
      "metadata": {
        "id": "RaE4rcK9l0WN"
      },
      "outputs": [],
      "source": [
        "# and_fun()\n",
        "# 두개 1로 같으면 -> 1\n",
        "# 나머지는 false\n",
        "def and_fun1(x, y):\n",
        "    if x == 1:\n",
        "        if y == 1:\n",
        "            return 1\n",
        "        elif y == 0:\n",
        "            return 0\n",
        "    elif x == 0:\n",
        "        if y == 1:\n",
        "            return 0\n",
        "        elif y == 0:\n",
        "            return 0"
      ]
    },
    {
      "cell_type": "code",
      "execution_count": null,
      "metadata": {
        "id": "u-z4vMFal0WO"
      },
      "outputs": [],
      "source": [
        "and_fun1(1,0)"
      ]
    },
    {
      "cell_type": "code",
      "execution_count": null,
      "metadata": {
        "id": "lgz-BNv3l0WO"
      },
      "outputs": [],
      "source": [
        "def and_fun2(x, y):\n",
        "    if 0 not in (x, y):\n",
        "        return 1\n",
        "    else:\n",
        "        return 0"
      ]
    },
    {
      "cell_type": "code",
      "execution_count": null,
      "metadata": {
        "id": "Lpc-lTf_l0WO"
      },
      "outputs": [],
      "source": [
        "and_fun2(1,1)"
      ]
    },
    {
      "cell_type": "code",
      "execution_count": null,
      "metadata": {
        "id": "33K_CHtal0WP"
      },
      "outputs": [],
      "source": [
        "def and_fun3(x, y):\n",
        "    if 0 not in (x, y):\n",
        "        return 1\n",
        "    else:\n",
        "        return 0"
      ]
    },
    {
      "cell_type": "code",
      "execution_count": null,
      "metadata": {
        "id": "7HXhhxMil0WP"
      },
      "outputs": [],
      "source": [
        "def and_fun3(x,y):\n",
        "    result = (-x+1<y)\n",
        "    return result"
      ]
    },
    {
      "cell_type": "code",
      "execution_count": null,
      "metadata": {
        "id": "Fy_VbglAl0WP"
      },
      "outputs": [],
      "source": [
        "and_fun3(1,1)"
      ]
    },
    {
      "cell_type": "code",
      "execution_count": null,
      "metadata": {
        "id": "Mz6n7E8ml0WQ"
      },
      "outputs": [],
      "source": [
        "# (0,0) -> 0\n",
        "# (1,0) -> 1\n",
        "# (0,1) -> 1\n",
        "# (1,1) -> 1\n",
        "def or_fun1(x,y):\n",
        "    if 1 in (x,y):\n",
        "        return 1\n",
        "    else:\n",
        "        return 0"
      ]
    },
    {
      "cell_type": "code",
      "execution_count": null,
      "metadata": {
        "id": "8n6_VUQOl0WQ"
      },
      "outputs": [],
      "source": [
        "or_fun1(1,0)"
      ]
    },
    {
      "cell_type": "code",
      "execution_count": null,
      "metadata": {
        "id": "IlgtXSBrl0WQ"
      },
      "outputs": [],
      "source": [
        "or_fun1(0,1)"
      ]
    },
    {
      "cell_type": "code",
      "execution_count": null,
      "metadata": {
        "id": "2z6n6tVTl0WR"
      },
      "outputs": [],
      "source": [
        "or_fun1(1,1)"
      ]
    },
    {
      "cell_type": "code",
      "execution_count": null,
      "metadata": {
        "id": "Di7Ccbsql0WR"
      },
      "outputs": [],
      "source": [
        "or_fun1(0,0)"
      ]
    },
    {
      "cell_type": "code",
      "execution_count": null,
      "metadata": {
        "id": "E0xOK4aZl0WR"
      },
      "outputs": [],
      "source": [
        "# or 랑 and 를 적당히 조합하여 xor 연산을 만드세요\n",
        "def xor_fun(x,y):\n",
        "    result = or_fun1(and_fun3(x, not y), and_fun3(not x, y))\n",
        "    return result"
      ]
    },
    {
      "cell_type": "code",
      "execution_count": null,
      "metadata": {
        "id": "Rg2Lmp6Ol0WR"
      },
      "outputs": [],
      "source": [
        "xor_fun(1,1)"
      ]
    },
    {
      "cell_type": "code",
      "execution_count": null,
      "metadata": {
        "id": "zjmo5TBwl0WR",
        "outputId": "8dd1226a-b093-46f0-ad1a-362f045c2497"
      },
      "outputs": [
        {
          "data": {
            "text/plain": [
              "100.0"
            ]
          },
          "execution_count": 37,
          "metadata": {},
          "output_type": "execute_result"
        }
      ],
      "source": [
        "# 삼각형 넓이 문제\n",
        "hight = int(input(\"hight : \"))\n",
        "width = int(input(\"width : \"))\n",
        "def triangle_area(width, hight):\n",
        "    result = width * hight/2\n",
        "    return result\n",
        "\n",
        "triangle_area(width = width, hight = hight)"
      ]
    },
    {
      "cell_type": "code",
      "execution_count": null,
      "metadata": {
        "id": "SbWLcbIpl0WS",
        "outputId": "3c2c47e2-b274-46e3-d551-a296c19646ff"
      },
      "outputs": [
        {
          "data": {
            "text/plain": [
              "100.0"
            ]
          },
          "execution_count": 36,
          "metadata": {},
          "output_type": "execute_result"
        }
      ],
      "source": [
        "triangle_area(10, 20)"
      ]
    },
    {
      "cell_type": "code",
      "execution_count": null,
      "metadata": {
        "id": "b95DBMa3l0WT"
      },
      "outputs": [],
      "source": [
        "# # \n",
        "# 1. 도시를 추가 -> 도시 입력\n",
        "# 2. 추가 완료 -> 입력받은 도시의 값들을 출력 앞의 세글자만 출력 -> 종료 \n",
        "# 3. 종료 -> 그냥 종료 \n",
        "\n",
        "# seoul\n",
        "# busan\n",
        "# 추가 완료\n",
        "# seo, bus\n",
        "\n",
        "def input_user():\n",
        "    data = input(\"도시를 영어로 입력 하세요 : \")\n",
        "    result = []\n",
        "    result.append(data) \n",
        "    return result\n",
        "\n",
        "def get_addr(list_data):\n",
        "    result = []\n",
        "    for i in list_data:\n",
        "        result.append(i[:3])\n",
        "    return result\n",
        "\n",
        "number = 0\n",
        "while number != 3:\n",
        "    print(\"3번 : 종료\")\n",
        "    number = int(input(\"값을 입력 하세요 : \")) \n",
        "\n",
        "# def main():\n",
        "#     while True:\n",
        "#         pass\n",
        "\n",
        "main() #실행"
      ]
    },
    {
      "cell_type": "code",
      "execution_count": null,
      "metadata": {
        "id": "f3cZJoVZl0WT"
      },
      "outputs": [],
      "source": [
        "def input_user():\n",
        "    data = input(\"도시를 영어로 입력 하세요 : \")\n",
        "    result = []\n",
        "    result.append(data) \n",
        "    return result"
      ]
    },
    {
      "cell_type": "code",
      "execution_count": null,
      "metadata": {
        "id": "Hd5Tw_76l0WU",
        "outputId": "1e026afe-dbb0-4c51-e50c-8be0af83f1da"
      },
      "outputs": [
        {
          "data": {
            "text/plain": [
              "['busan']"
            ]
          },
          "execution_count": 40,
          "metadata": {},
          "output_type": "execute_result"
        }
      ],
      "source": [
        "input_user()"
      ]
    },
    {
      "cell_type": "code",
      "execution_count": null,
      "metadata": {
        "id": "i4gex5xKl0WU",
        "outputId": "907d5a12-c9e7-4df0-893b-4f892011b8af"
      },
      "outputs": [
        {
          "name": "stdout",
          "output_type": "stream",
          "text": [
            "['seo', 'bus']\n"
          ]
        }
      ],
      "source": [
        "list_data = [\"seoul\", \"busan\"]\n",
        "result = []\n",
        "for i in list_data:\n",
        "    result.append(i[:3])\n",
        "print(result)"
      ]
    },
    {
      "cell_type": "code",
      "execution_count": null,
      "metadata": {
        "id": "A3iGQqe-l0WV",
        "outputId": "969e74d3-c253-4778-9a84-0def12096830"
      },
      "outputs": [
        {
          "name": "stdout",
          "output_type": "stream",
          "text": [
            "\n",
            "1. 도시를 추가\n",
            "2. 추가 완료\n",
            "3. 종료\n",
            "\n",
            "\n",
            "1. 도시를 추가\n",
            "2. 추가 완료\n",
            "3. 종료\n",
            "\n",
            "\n",
            "1. 도시를 추가\n",
            "2. 추가 완료\n",
            "3. 종료\n",
            "\n",
            "['seo', 'bus']\n"
          ]
        }
      ],
      "source": [
        "number = 0\n",
        "prompt = '''\n",
        "1. 도시를 추가\n",
        "2. 추가 완료\n",
        "3. 종료\n",
        "'''\n",
        "def input_user(list_data):\n",
        "    data = input(\"도시를 영어로 입력 하세요 : \")\n",
        "    # result = [] # 초기화가 되어버린다. -> 문제점...\n",
        "    list_data.append(data) \n",
        "    # return result # list_data의 값이 변경되지 반환값은 없다. \n",
        "\n",
        "def get_addr(list_data):\n",
        "    result = []\n",
        "    for i in list_data:\n",
        "        result.append(i[:3])\n",
        "    return result\n",
        "\n",
        "cities = [] # 함수 외부에서 선언했다. \n",
        "while number != 3:\n",
        "    print(prompt)\n",
        "    number = int(input(\"값을 입력 하세요 : \"))\n",
        "    if number == 1:\n",
        "        input_user(cities)\n",
        "    elif number == 2:\n",
        "        prt = get_addr(cities)\n",
        "        print(prt)\n",
        "        break\n",
        "    else:\n",
        "        break"
      ]
    },
    {
      "cell_type": "markdown",
      "metadata": {
        "id": "6ehmQoXjl0WV"
      },
      "source": [
        "# 변수의 유효범위\n",
        "- 변수가 어느 범위에서 유효한지를 나타낸다. \n",
        "- 함수 내부에서 정의되는 변수. 지역(local) 변수\n",
        "- 함수 외부에서 정의되는 변수. 전역(Global) 변수\n",
        "- 변수를 호출하는 순서 : 지역변수 -> 전역변수 "
      ]
    },
    {
      "cell_type": "code",
      "execution_count": null,
      "metadata": {
        "id": "GRjLdmY7l0WX"
      },
      "outputs": [],
      "source": [
        "# 지역 변수\n",
        "def func_1():\n",
        "    str_1 = \"lv\"\n",
        "    print(str_1)"
      ]
    },
    {
      "cell_type": "code",
      "execution_count": null,
      "metadata": {
        "id": "S-GH0tI9l0WX",
        "outputId": "14ad2e67-1bbf-442c-8dcd-62d27916956f"
      },
      "outputs": [
        {
          "name": "stdout",
          "output_type": "stream",
          "text": [
            "lv\n"
          ]
        }
      ],
      "source": [
        "func_1()"
      ]
    },
    {
      "cell_type": "code",
      "execution_count": null,
      "metadata": {
        "id": "hwx_mrQwl0WX"
      },
      "outputs": [],
      "source": [
        "str_1 = \"gv\"\n",
        "def func_2():\n",
        "    str_1 = \"lv\"\n",
        "    print(str_1)"
      ]
    },
    {
      "cell_type": "code",
      "execution_count": null,
      "metadata": {
        "id": "yNCErcKwl0WY",
        "outputId": "f5cb088f-111c-4f46-bf58-726adc7a59f6"
      },
      "outputs": [
        {
          "name": "stdout",
          "output_type": "stream",
          "text": [
            "lv\n"
          ]
        }
      ],
      "source": [
        "func_2()"
      ]
    },
    {
      "cell_type": "code",
      "execution_count": null,
      "metadata": {
        "id": "2RP9mt-al0WY"
      },
      "outputs": [],
      "source": [
        "str_1 = \"gv\"\n",
        "def func_3():\n",
        "    # str_1 = \"lv\"\n",
        "    print(str_1)"
      ]
    },
    {
      "cell_type": "code",
      "execution_count": null,
      "metadata": {
        "id": "kg4ax_7cl0WY",
        "outputId": "063eff83-f36a-4169-9dbd-009b30e52aba"
      },
      "outputs": [
        {
          "name": "stdout",
          "output_type": "stream",
          "text": [
            "gv\n"
          ]
        }
      ],
      "source": [
        "func_3()"
      ]
    },
    {
      "cell_type": "code",
      "execution_count": null,
      "metadata": {
        "id": "CpOuJpm2l0WZ"
      },
      "outputs": [],
      "source": [
        "str_1 = \"gv\"\n",
        "def func_4():\n",
        "    str_1 = \"lv\"\n",
        "    print(str_1)"
      ]
    },
    {
      "cell_type": "code",
      "execution_count": null,
      "metadata": {
        "id": "9qbqJG2ml0WZ",
        "outputId": "2148c862-308a-4c52-c681-3b025f97ceff"
      },
      "outputs": [
        {
          "name": "stdout",
          "output_type": "stream",
          "text": [
            "lv\n"
          ]
        }
      ],
      "source": [
        "func_4()"
      ]
    },
    {
      "cell_type": "code",
      "execution_count": null,
      "metadata": {
        "id": "mExRZyAOl0WZ",
        "outputId": "e830f316-9c2f-4322-ee26-ad50e3a9279e"
      },
      "outputs": [
        {
          "data": {
            "text/plain": [
              "'gv'"
            ]
          },
          "execution_count": 63,
          "metadata": {},
          "output_type": "execute_result"
        }
      ],
      "source": [
        "str_1"
      ]
    },
    {
      "cell_type": "code",
      "execution_count": null,
      "metadata": {
        "id": "3x7cYwPUl0WZ"
      },
      "outputs": [],
      "source": [
        "str_1 = \"gv\"\n",
        "def func_5():\n",
        "    global str_1\n",
        "    str_1 = \"lv\"\n",
        "    print(str_1)"
      ]
    },
    {
      "cell_type": "code",
      "execution_count": null,
      "metadata": {
        "id": "TFff93oXl0WZ",
        "outputId": "6723db67-6573-4d59-f718-720aa7aee1be"
      },
      "outputs": [
        {
          "name": "stdout",
          "output_type": "stream",
          "text": [
            "lv\n"
          ]
        }
      ],
      "source": [
        "func_5()"
      ]
    },
    {
      "cell_type": "code",
      "execution_count": null,
      "metadata": {
        "id": "oqqA097Vl0Wa",
        "outputId": "1ea0e0e7-4a3d-43e1-8c9a-97c6a3e18ba9"
      },
      "outputs": [
        {
          "data": {
            "text/plain": [
              "'lv'"
            ]
          },
          "execution_count": 67,
          "metadata": {},
          "output_type": "execute_result"
        }
      ],
      "source": [
        "str_1"
      ]
    },
    {
      "cell_type": "code",
      "execution_count": null,
      "metadata": {
        "id": "-TMb5hWgl0Wa",
        "outputId": "74c2964b-cfe0-4838-9ef6-876d90ab2252"
      },
      "outputs": [
        {
          "ename": "SyntaxError",
          "evalue": "name 'str_1' is assigned to before global declaration (1534378531.py, line 4)",
          "output_type": "error",
          "traceback": [
            "\u001b[0;36m  Cell \u001b[0;32mIn[68], line 4\u001b[0;36m\u001b[0m\n\u001b[0;31m    global str_1\u001b[0m\n\u001b[0m    ^\u001b[0m\n\u001b[0;31mSyntaxError\u001b[0m\u001b[0;31m:\u001b[0m name 'str_1' is assigned to before global declaration\n"
          ]
        }
      ],
      "source": [
        "str_1 = \"gv\"\n",
        "def func_5():\n",
        "    str_1 = \"lv\"\n",
        "    global str_1\n",
        "    print(str_1)"
      ]
    },
    {
      "cell_type": "code",
      "execution_count": null,
      "metadata": {
        "id": "-baZqmetl0Wa",
        "outputId": "3ac28838-0acd-4859-a55d-58a6f8b6864b"
      },
      "outputs": [
        {
          "ename": "SyntaxError",
          "evalue": "name 'str_2' is assigned to before global declaration (2178066858.py, line 3)",
          "output_type": "error",
          "traceback": [
            "\u001b[0;36m  Cell \u001b[0;32mIn[70], line 3\u001b[0;36m\u001b[0m\n\u001b[0;31m    global str_2\u001b[0m\n\u001b[0m    ^\u001b[0m\n\u001b[0;31mSyntaxError\u001b[0m\u001b[0;31m:\u001b[0m name 'str_2' is assigned to before global declaration\n"
          ]
        }
      ],
      "source": [
        "def func_5():\n",
        "    str_2 = \"lv\"\n",
        "    global str_2\n",
        "    print(str_2)"
      ]
    },
    {
      "cell_type": "code",
      "execution_count": null,
      "metadata": {
        "id": "rImxVJcFl0Wb"
      },
      "outputs": [],
      "source": [
        "# list\n",
        "list_1 = [] \n",
        "def func_6():\n",
        "    list_1.append(\"hi\")\n"
      ]
    },
    {
      "cell_type": "code",
      "execution_count": null,
      "metadata": {
        "id": "IA1RUqVRl0Wb"
      },
      "outputs": [],
      "source": [
        "func_6()"
      ]
    },
    {
      "cell_type": "code",
      "execution_count": null,
      "metadata": {
        "id": "GXiJHskzl0Wr",
        "outputId": "d00763ef-4dce-402e-8b37-1066bae58ec9"
      },
      "outputs": [
        {
          "data": {
            "text/plain": [
              "['hi']"
            ]
          },
          "execution_count": 73,
          "metadata": {},
          "output_type": "execute_result"
        }
      ],
      "source": [
        "list_1"
      ]
    },
    {
      "cell_type": "code",
      "execution_count": null,
      "metadata": {
        "id": "7UN63-YKl0Wr"
      },
      "outputs": [],
      "source": []
    },
    {
      "cell_type": "markdown",
      "metadata": {
        "id": "AxYPZCSjl0Wr"
      },
      "source": [
        "# 일급 시민 함수\n",
        "- 함수를 다른 함수에 인수로 전달 가능\n",
        "- 함수의 반환값으로 전달 가능 \n",
        "- 변수나 자료구조에 함수를 저장할 수 있다. "
      ]
    },
    {
      "cell_type": "markdown",
      "metadata": {
        "id": "OAUzXlZdl0Wr"
      },
      "source": [
        "def add(a,b):"
      ]
    },
    {
      "cell_type": "code",
      "execution_count": null,
      "metadata": {
        "id": "6tGqLJ_Nl0Ws"
      },
      "outputs": [],
      "source": [
        "def add(a,b):\n",
        "    return a+b"
      ]
    },
    {
      "cell_type": "code",
      "execution_count": null,
      "metadata": {
        "id": "aTU0rkTil0Ws"
      },
      "outputs": [],
      "source": [
        "var_1 = add"
      ]
    },
    {
      "cell_type": "code",
      "execution_count": null,
      "metadata": {
        "id": "ce_WaK6Ll0Ws",
        "outputId": "13d17334-addb-4137-a567-dca295222471"
      },
      "outputs": [
        {
          "data": {
            "text/plain": [
              "3"
            ]
          },
          "execution_count": 76,
          "metadata": {},
          "output_type": "execute_result"
        }
      ],
      "source": [
        "var_1(1,2)"
      ]
    },
    {
      "cell_type": "code",
      "execution_count": null,
      "metadata": {
        "id": "6QnBt1fxl0Ws"
      },
      "outputs": [],
      "source": [
        "def diff(a,b):\n",
        "    return a-b\n",
        "\n",
        "def mul(a,b):\n",
        "    return a*b"
      ]
    },
    {
      "cell_type": "code",
      "execution_count": null,
      "metadata": {
        "id": "dEylc1c2l0Ws"
      },
      "outputs": [],
      "source": [
        "func_list = [add, diff, mul]"
      ]
    },
    {
      "cell_type": "code",
      "execution_count": null,
      "metadata": {
        "id": "QadvUajkl0Wt",
        "outputId": "925b7bf0-89a5-4252-e926-b89178102d1c"
      },
      "outputs": [
        {
          "name": "stdout",
          "output_type": "stream",
          "text": [
            "7\n",
            "-1\n",
            "12\n"
          ]
        }
      ],
      "source": [
        "for i in func_list:\n",
        "    result = i(3,4)\n",
        "    print(result)"
      ]
    },
    {
      "cell_type": "code",
      "execution_count": null,
      "metadata": {
        "id": "36oVojBvl0Wt"
      },
      "outputs": [],
      "source": [
        "def func_7(g,a,b):\n",
        "    result = g(a,b)\n",
        "    return result"
      ]
    },
    {
      "cell_type": "code",
      "execution_count": null,
      "metadata": {
        "id": "rJkdVZTtl0Wt",
        "outputId": "3d9d61c2-155d-43aa-be66-9521d7f25880"
      },
      "outputs": [
        {
          "data": {
            "text/plain": [
              "7"
            ]
          },
          "execution_count": 85,
          "metadata": {},
          "output_type": "execute_result"
        }
      ],
      "source": [
        "func_7(add,3,4)"
      ]
    },
    {
      "cell_type": "code",
      "execution_count": null,
      "metadata": {
        "id": "qRoE7fAyl0Wt",
        "outputId": "0805ee65-cec4-46fe-9a58-18aa3c21fba9"
      },
      "outputs": [
        {
          "data": {
            "text/plain": [
              "-1"
            ]
          },
          "execution_count": 86,
          "metadata": {},
          "output_type": "execute_result"
        }
      ],
      "source": [
        "func_7(diff,3,4)"
      ]
    },
    {
      "cell_type": "code",
      "execution_count": null,
      "metadata": {
        "id": "B1ysGq4al0Wu",
        "outputId": "1c1e4462-7159-48e3-a527-34fa27d0b200"
      },
      "outputs": [
        {
          "data": {
            "text/plain": [
              "12"
            ]
          },
          "execution_count": 87,
          "metadata": {},
          "output_type": "execute_result"
        }
      ],
      "source": [
        "func_7(mul,3,4)"
      ]
    },
    {
      "cell_type": "markdown",
      "metadata": {
        "id": "V0Z1AF2cl0Wu"
      },
      "source": [
        "# 함수의 호출\n",
        "- 함수로 인수를 전달하는 방법\n",
        "    - call by value : C\n",
        "        - 값에 의한 호출, 계산한 결과값이 함수의 인수로 전달된다.\n",
        "        - 함수 내에서 인수값이 변경되어도 호출하는 측에는 아무런 영향을 주지 않는다.\n",
        "        - 원본의 내용을 함수 내부에서 변경하는게 불가능하다. \n",
        "    - call by Reference : java \n",
        "        - 호출하는 변수의 참조 주소가 전달받는 함수의 인수로 전달된다. \n",
        "        - 함수 내부에서 변수가 변경되면 호출 당하는 변수에도 영향을 미친다.\n",
        "        - 함수 내부에서 원본의 내용을 변경하는게 가능하다. \n",
        "    - call by object Reference(call by sharing) : python\n",
        "        - 파이썬은 함수로 인수를 전달할때 객체의 참조를 전달한다.\n",
        "        - 객체가 mutable 이나 immutable 이냐에 따라서 그 결과가 달라진다."
      ]
    },
    {
      "cell_type": "markdown",
      "metadata": {
        "id": "1fMxVjDJl0Wu"
      },
      "source": [
        "# mutable vs immutable\n",
        "- 변수\n",
        "    - 변수는 객체를 가리킨다.\n",
        "    - a = 1 메모리에 1이 저장 , a는 메모리의 위치를 가리킨다. \n",
        "- 숫자형 : immutable\n",
        "    - x -> 1 <-y : x와 y가 동시에 1을 가리킨다.\n",
        "    - y += 1\n",
        "    - x -> 1, y -> 2"
      ]
    },
    {
      "cell_type": "code",
      "execution_count": null,
      "metadata": {
        "id": "CXe4jHwpl0Wu"
      },
      "outputs": [],
      "source": [
        "x = 1\n",
        "y = x"
      ]
    },
    {
      "cell_type": "code",
      "execution_count": null,
      "metadata": {
        "id": "JDXw6WU_l0Wv"
      },
      "outputs": [],
      "source": [
        "y += 1"
      ]
    },
    {
      "cell_type": "code",
      "execution_count": null,
      "metadata": {
        "id": "VBnWiFfxl0Wv",
        "outputId": "eba4fbfb-3ee7-470d-a490-90ce00e5b54c"
      },
      "outputs": [
        {
          "data": {
            "text/plain": [
              "2"
            ]
          },
          "execution_count": 92,
          "metadata": {},
          "output_type": "execute_result"
        }
      ],
      "source": [
        "y"
      ]
    },
    {
      "cell_type": "code",
      "execution_count": null,
      "metadata": {
        "id": "8IH7yS0-l0Ww",
        "outputId": "e898aa43-9753-4b1d-a89e-1fcbd84c5516"
      },
      "outputs": [
        {
          "data": {
            "text/plain": [
              "1"
            ]
          },
          "execution_count": 93,
          "metadata": {},
          "output_type": "execute_result"
        }
      ],
      "source": [
        "x"
      ]
    },
    {
      "cell_type": "markdown",
      "metadata": {
        "id": "4x4Dm9yKl0Ww"
      },
      "source": [
        "문자열 \n",
        "- x -> \"abcd\" <- y\n",
        "- y += e"
      ]
    },
    {
      "cell_type": "code",
      "execution_count": null,
      "metadata": {
        "id": "2AWXk4Vel0Ww"
      },
      "outputs": [],
      "source": [
        "x = \"abcd\"\n",
        "y = x"
      ]
    },
    {
      "cell_type": "code",
      "execution_count": null,
      "metadata": {
        "id": "u_kudXY_l0Wx"
      },
      "outputs": [],
      "source": [
        "y += \"e\""
      ]
    },
    {
      "cell_type": "code",
      "execution_count": null,
      "metadata": {
        "id": "49qq-H75l0Wx",
        "outputId": "423ab069-50ab-40fd-cf2c-57e29f85f301"
      },
      "outputs": [
        {
          "data": {
            "text/plain": [
              "'abcd'"
            ]
          },
          "execution_count": 96,
          "metadata": {},
          "output_type": "execute_result"
        }
      ],
      "source": [
        "x"
      ]
    },
    {
      "cell_type": "code",
      "execution_count": null,
      "metadata": {
        "id": "DwwcPjJll0Wx",
        "outputId": "3f4490a3-c83e-4651-9717-9913b19ce4c0"
      },
      "outputs": [
        {
          "data": {
            "text/plain": [
              "'abcde'"
            ]
          },
          "execution_count": 97,
          "metadata": {},
          "output_type": "execute_result"
        }
      ],
      "source": [
        "y"
      ]
    },
    {
      "cell_type": "code",
      "execution_count": null,
      "metadata": {
        "id": "yEua4ZMtl0Wx"
      },
      "outputs": [],
      "source": [
        "x = [1,2]\n",
        "y = x"
      ]
    },
    {
      "cell_type": "code",
      "execution_count": null,
      "metadata": {
        "id": "MPIym_wSl0Wx"
      },
      "outputs": [],
      "source": [
        "y += [3]"
      ]
    },
    {
      "cell_type": "code",
      "execution_count": null,
      "metadata": {
        "id": "9QJORz8Hl0Wy",
        "outputId": "235f7d3e-b842-48f8-c335-6d9f7ef604ca"
      },
      "outputs": [
        {
          "data": {
            "text/plain": [
              "[1, 2, 3]"
            ]
          },
          "execution_count": 103,
          "metadata": {},
          "output_type": "execute_result"
        }
      ],
      "source": [
        "y"
      ]
    },
    {
      "cell_type": "code",
      "execution_count": null,
      "metadata": {
        "id": "s-SVWbc8l0Wy",
        "outputId": "44a96f41-2a10-4f77-818b-49597b4fcb3f"
      },
      "outputs": [
        {
          "data": {
            "text/plain": [
              "[1, 2, 3]"
            ]
          },
          "execution_count": 104,
          "metadata": {},
          "output_type": "execute_result"
        }
      ],
      "source": [
        "x"
      ]
    },
    {
      "cell_type": "code",
      "execution_count": null,
      "metadata": {
        "id": "ILpdgi2Rl0Wy",
        "outputId": "f697cd57-dab0-4ec4-d8c4-2086fe68cdfd"
      },
      "outputs": [
        {
          "data": {
            "text/plain": [
              "[1, 2, 3, 4]"
            ]
          },
          "execution_count": 105,
          "metadata": {},
          "output_type": "execute_result"
        }
      ],
      "source": [
        "y + [4]"
      ]
    },
    {
      "cell_type": "markdown",
      "metadata": {
        "id": "hCtIYhwOl0Wy"
      },
      "source": [
        "# 람다 함수 : 한줄짜리 함수 \n",
        "- 이름이 없는 한줄짜리 함수\n",
        "- 일반 함수는 함수를 정의 하고 함수를 인수로 전달\n",
        "- 람다 함수는 정의와 동시에 함수 객체로 사용\n",
        "```\n",
        "(lambda <args> : <반활할 식>)(vals)\n",
        "```"
      ]
    },
    {
      "cell_type": "code",
      "execution_count": null,
      "metadata": {
        "id": "5mci_s0Il0Wz",
        "outputId": "8be602e4-93aa-49a5-9e03-ec4465a2420d"
      },
      "outputs": [
        {
          "data": {
            "text/plain": [
              "3"
            ]
          },
          "execution_count": 107,
          "metadata": {},
          "output_type": "execute_result"
        }
      ],
      "source": [
        "(lambda x,y : x+y)(1,2)"
      ]
    },
    {
      "cell_type": "code",
      "execution_count": null,
      "metadata": {
        "id": "F6NpHt6Ol0Wz"
      },
      "outputs": [],
      "source": [
        "func_8 = lambda x,y : x+y"
      ]
    },
    {
      "cell_type": "code",
      "execution_count": null,
      "metadata": {
        "id": "5iVcNyBfl0Wz",
        "outputId": "11ccecbf-667b-457c-a5a0-d09854512438"
      },
      "outputs": [
        {
          "data": {
            "text/plain": [
              "3"
            ]
          },
          "execution_count": 110,
          "metadata": {},
          "output_type": "execute_result"
        }
      ],
      "source": [
        "func_8(1,2)"
      ]
    },
    {
      "cell_type": "code",
      "execution_count": null,
      "metadata": {
        "id": "vAxZzVS7l0Wz",
        "outputId": "c42f4873-91d7-4f9f-a5eb-b697452779c2"
      },
      "outputs": [
        {
          "data": {
            "text/plain": [
              "7"
            ]
          },
          "execution_count": 113,
          "metadata": {},
          "output_type": "execute_result"
        }
      ],
      "source": [
        "(lambda x, acc=3 : acc+x)(4)"
      ]
    },
    {
      "cell_type": "code",
      "execution_count": null,
      "metadata": {
        "id": "SiR26cIPl0W0"
      },
      "outputs": [],
      "source": [
        "# map, filter 함수\n",
        "# - 함수를 매개변수로 전달하는 내장함수\n",
        "# map() : https://docs.python.org/3/library/functions.html#map\n",
        "#   - 리스트의 요소를 함수에 넣고 리턴된 값으로 새로운 리스트를 구성해 반환 한다. \n",
        "# filter() : https://docs.python.org/3/library/functions.html#filter\n",
        "#   - 리스트의 요소를 함수에 넣고 리턴된 값이 True 인 것으로 새로운 리스트 구성\n",
        "list_input_a = [1,2,3,4,5]\n",
        "def power(items):\n",
        "    return items * items * items"
      ]
    },
    {
      "cell_type": "code",
      "execution_count": null,
      "metadata": {
        "id": "Q7Z73eQal0W0"
      },
      "outputs": [],
      "source": [
        "map_output = map(power, list_input_a)"
      ]
    },
    {
      "cell_type": "code",
      "execution_count": null,
      "metadata": {
        "id": "vzl8BitYl0W1",
        "outputId": "1b1871cf-6a55-4ed3-8175-b7b00469fbaa"
      },
      "outputs": [
        {
          "data": {
            "text/plain": [
              "map"
            ]
          },
          "execution_count": 122,
          "metadata": {},
          "output_type": "execute_result"
        }
      ],
      "source": [
        "type(map_output)"
      ]
    },
    {
      "cell_type": "code",
      "execution_count": null,
      "metadata": {
        "id": "Ywc6G6Mbl0W1",
        "outputId": "76db1ec1-da95-4ad8-88b8-1ea36498049b"
      },
      "outputs": [
        {
          "data": {
            "text/plain": [
              "[1, 8, 27, 64, 125]"
            ]
          },
          "execution_count": 123,
          "metadata": {},
          "output_type": "execute_result"
        }
      ],
      "source": [
        "list(map_output)"
      ]
    },
    {
      "cell_type": "code",
      "execution_count": null,
      "metadata": {
        "id": "BdGKWQQ9l0W2"
      },
      "outputs": [],
      "source": [
        "list_input_a = [1,6,3,10,5,3,7,8]\n",
        "\n",
        "def under_5(items):\n",
        "    return items < 5"
      ]
    },
    {
      "cell_type": "code",
      "execution_count": null,
      "metadata": {
        "id": "NDXFYzqYl0W2",
        "outputId": "eb07b83d-1b44-403e-ac8c-9e9884f436fa"
      },
      "outputs": [
        {
          "data": {
            "text/plain": [
              "[1, 3, 3]"
            ]
          },
          "execution_count": 136,
          "metadata": {},
          "output_type": "execute_result"
        }
      ],
      "source": [
        "list(filter(under_5, list_input_a))"
      ]
    },
    {
      "cell_type": "code",
      "execution_count": null,
      "metadata": {
        "id": "VHv4lbYjl0W2"
      },
      "outputs": [],
      "source": [
        "# 3시 30분에 시작"
      ]
    },
    {
      "cell_type": "code",
      "execution_count": null,
      "metadata": {
        "id": "3fg8Hkp2l0W3"
      },
      "outputs": [],
      "source": [
        "# 재규 함수 \n",
        "def factorial(n):\n",
        "    output = 1\n",
        "    for i in range(1, n+1):\n",
        "        output *= i\n",
        "    return output"
      ]
    },
    {
      "cell_type": "code",
      "execution_count": null,
      "metadata": {
        "id": "BiEalMpFl0W5",
        "outputId": "b733fae6-8e95-4946-c4a0-42098a0363ae"
      },
      "outputs": [
        {
          "data": {
            "text/plain": [
              "3628800"
            ]
          },
          "execution_count": 141,
          "metadata": {},
          "output_type": "execute_result"
        }
      ],
      "source": [
        "factorial(10)"
      ]
    },
    {
      "cell_type": "code",
      "execution_count": null,
      "metadata": {
        "id": "ZJ2p4CBMl0W6"
      },
      "outputs": [],
      "source": [
        "# n! = n * n-1 * n-2 * ... 3* 2* 1\n",
        "#    = n * (n-1)!\n",
        "# (n-1)! = n-1 * (n-2)!\n",
        "#...\n",
        "# 2! = 2*1!\n",
        "# 1! = 1 * 0!\n",
        "# 0! = 1\n",
        "\n",
        "# 재규함수 기본형\n",
        "# '''\n",
        "# def func(n):\n",
        "#     if <condition>:\n",
        "#         return value\n",
        "#     else:\n",
        "#         return value * func(n-1)\n",
        "# '''\n",
        "\n",
        "def factorial_r(n):\n",
        "    if n == 0: # 탈출조건 \n",
        "        return 1\n",
        "    else:\n",
        "        return n * factorial_r(n-1)"
      ]
    },
    {
      "cell_type": "code",
      "execution_count": null,
      "metadata": {
        "id": "6xvTRFTdl0W6",
        "outputId": "a956ebf8-d03c-4c83-9d09-80191836e50d"
      },
      "outputs": [
        {
          "data": {
            "text/plain": [
              "3628800"
            ]
          },
          "execution_count": 143,
          "metadata": {},
          "output_type": "execute_result"
        }
      ],
      "source": [
        "factorial_r(10)"
      ]
    },
    {
      "cell_type": "code",
      "execution_count": null,
      "metadata": {
        "id": "GRTS3DCxl0W6"
      },
      "outputs": [],
      "source": [
        "# x^n을 구하는 함수를 만들어 보세요 (x를 n번 곱하는 재규함수) \n"
      ]
    }
  ],
  "metadata": {
    "colab": {
      "provenance": [],
      "include_colab_link": true
    },
    "kernelspec": {
      "display_name": "Python 3",
      "name": "python3"
    },
    "language_info": {
      "codemirror_mode": {
        "name": "ipython",
        "version": 3
      },
      "file_extension": ".py",
      "mimetype": "text/x-python",
      "name": "python",
      "nbconvert_exporter": "python",
      "pygments_lexer": "ipython3",
      "version": "3.10.11"
    }
  },
  "nbformat": 4,
  "nbformat_minor": 0
}