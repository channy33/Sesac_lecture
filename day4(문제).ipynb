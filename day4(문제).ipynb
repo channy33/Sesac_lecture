{
  "cells": [
    {
      "cell_type": "markdown",
      "metadata": {
        "id": "view-in-github",
        "colab_type": "text"
      },
      "source": [
        "<a href=\"https://colab.research.google.com/github/channy33/Sesac_lecture/blob/master/day4(%EB%AC%B8%EC%A0%9C).ipynb\" target=\"_parent\"><img src=\"https://colab.research.google.com/assets/colab-badge.svg\" alt=\"Open In Colab\"/></a>"
      ]
    },
    {
      "cell_type": "markdown",
      "metadata": {
        "id": "lEFEABfNaLWF"
      },
      "source": [
        "1. 주어진 자연수 N에 대해 N이 짝수이면 N!을, 홀수이면 ΣN을 구하는 코드를 작성하려 한다. 주어진 코드에서 잘못된 부분을 수정하시오. "
      ]
    },
    {
      "cell_type": "code",
      "execution_count": null,
      "metadata": {
        "id": "sRnBEa7m6UGX"
      },
      "outputs": [],
      "source": [
        "# n! = n*n-1*n-2*...*3*2*1\n",
        "# sig N = n + n-1 + n-2 + ... + 3 + 2+ 1"
      ]
    },
    {
      "cell_type": "code",
      "execution_count": null,
      "metadata": {
        "id": "Hb_Y2AkZZ5mm"
      },
      "outputs": [],
      "source": [
        "def calculator(N):\n",
        "    if N % 2 == 0:\n",
        "        result = 1\n",
        "        for i in range(1, N + 1):\n",
        "            result = result * i\n",
        "    else:\n",
        "        result = 0\n",
        "        for i in range(1, N + 1):\n",
        "            result = result + i\n",
        "    return result"
      ]
    },
    {
      "cell_type": "code",
      "execution_count": null,
      "metadata": {
        "id": "NWqRZUCk6UGb",
        "outputId": "6062ad11-395e-441e-d49d-298078190d28"
      },
      "outputs": [
        {
          "data": {
            "text/plain": [
              "66"
            ]
          },
          "execution_count": 5,
          "metadata": {},
          "output_type": "execute_result"
        }
      ],
      "source": [
        "calculator(11)"
      ]
    },
    {
      "cell_type": "markdown",
      "metadata": {
        "id": "ztQbdcAtbMTk"
      },
      "source": [
        "\n",
        "2. 다음 코드의 실행 결과를 쓰시오"
      ]
    },
    {
      "cell_type": "code",
      "execution_count": null,
      "metadata": {
        "id": "9ma7DKKnbOai",
        "outputId": "ee576a0c-99e5-4961-b7b4-a6818bba5e39"
      },
      "outputs": [
        {
          "name": "stdout",
          "output_type": "stream",
          "text": [
            "apple\n"
          ]
        }
      ],
      "source": [
        "fruit = 'apple'\n",
        "if fruit == 'Apple':\n",
        "    fruit = 'Apple'\n",
        "elif fruit == 'fruit':\n",
        "    fruit = 'fruit'\n",
        "else:\n",
        "    fruit = fruit\n",
        "print(fruit)"
      ]
    },
    {
      "cell_type": "markdown",
      "metadata": {
        "id": "puy9FgyvbPng"
      },
      "source": [
        "3. 다음 코드의 실행 결과를 쓰시오.\n"
      ]
    },
    {
      "cell_type": "code",
      "execution_count": null,
      "metadata": {
        "id": "bGmRTrwxbQ21",
        "outputId": "99ee25a6-4f5e-46f1-a1f6-7a1db22689f1"
      },
      "outputs": [
        {
          "name": "stdout",
          "output_type": "stream",
          "text": [
            "['12', '34', '56']\n"
          ]
        }
      ],
      "source": [
        "num = ['12', '34', '56']\n",
        "for i in num:\n",
        "    i = int(i)\n",
        "print(num)"
      ]
    },
    {
      "cell_type": "code",
      "execution_count": null,
      "metadata": {
        "id": "4WRYXcwG6UGg",
        "outputId": "eacd4b76-7fdc-4baf-f4b3-00598ac803bd"
      },
      "outputs": [
        {
          "name": "stdout",
          "output_type": "stream",
          "text": [
            "[12, 34, 56]\n"
          ]
        }
      ],
      "source": [
        "num = ['12', '34', '56']\n",
        "for i in range(len(num)):\n",
        "    num[i] = int(num[i])\n",
        "print(num)"
      ]
    },
    {
      "cell_type": "markdown",
      "metadata": {
        "id": "3dgXkVD1bTmJ"
      },
      "source": [
        "4. 다음 코드의 실행 결과를 쓰시오."
      ]
    },
    {
      "cell_type": "code",
      "execution_count": null,
      "metadata": {
        "id": "8K6Pwo48bT-G",
        "outputId": "a495ff9f-915e-466c-d068-eab86b0ed618"
      },
      "outputs": [
        {
          "name": "stdout",
          "output_type": "stream",
          "text": [
            "[3, 4.0]\n"
          ]
        }
      ],
      "source": [
        "number = [\"1\", 2, 3, float(4), str(5)]\n",
        "if number[4] == 5:\n",
        "    print(type(number[0]))\n",
        "elif number[3] == 4:\n",
        "    print(number[2:-1])"
      ]
    },
    {
      "cell_type": "markdown",
      "metadata": {
        "id": "CD4lNaLTbUCu"
      },
      "source": [
        "5. 다음 코드의 실행 결과를 쓰시오."
      ]
    },
    {
      "cell_type": "code",
      "execution_count": null,
      "metadata": {
        "id": "cntdpkKebUGQ",
        "outputId": "761ab98c-621f-434e-a9c9-da43974baf6c"
      },
      "outputs": [
        {
          "name": "stdout",
          "output_type": "stream",
          "text": [
            "2\n",
            "2\n",
            "====\n",
            "3\n",
            "5\n",
            "====\n",
            "5\n"
          ]
        }
      ],
      "source": [
        "num = 0\n",
        "i = 1\n",
        "\n",
        "while i < 8:\n",
        "    if i % 3 == 0:\n",
        "        break\n",
        "    i += 1\n",
        "    print(i)\n",
        "    num += i\n",
        "    print(num)\n",
        "    print(\"====\")\n",
        "print(num)"
      ]
    },
    {
      "cell_type": "markdown",
      "metadata": {
        "id": "3jMVvJDCbUJ6"
      },
      "source": [
        "6. 다음 코드의 실행 결과를 쓰시오."
      ]
    },
    {
      "cell_type": "code",
      "execution_count": null,
      "metadata": {
        "id": "q1gmDvWh6UGj",
        "outputId": "15dec631-a42c-46c0-bdac-ecfe0d0d6272"
      },
      "outputs": [
        {
          "data": {
            "text/plain": [
              "[5, 3, 1, -1, -3]"
            ]
          },
          "execution_count": 13,
          "metadata": {},
          "output_type": "execute_result"
        }
      ],
      "source": [
        "list(range(5, -5, -2))"
      ]
    },
    {
      "cell_type": "code",
      "execution_count": null,
      "metadata": {
        "id": "pCv8XHyt6UGk"
      },
      "outputs": [],
      "source": [
        "# 5 : r = -1\n",
        "# 3 : r = -2\n",
        "# 1 : r = -3\n",
        "# -1: r = -4\n",
        "# -3: r = -5\n",
        "# -5:xxxxxxxxx"
      ]
    },
    {
      "cell_type": "code",
      "execution_count": null,
      "metadata": {
        "id": "DYoFYXqLbUNV",
        "outputId": "68b80306-71a8-43b3-86a1-a1a41a1aa2bd"
      },
      "outputs": [
        {
          "name": "stdout",
          "output_type": "stream",
          "text": [
            "-5\n"
          ]
        }
      ],
      "source": [
        "result = 0\n",
        "for i in range(5, -5, -2):\n",
        "    if i < -3:\n",
        "        result += 1\n",
        "    else:\n",
        "        result -= 1\n",
        "        \n",
        "print(result)"
      ]
    },
    {
      "cell_type": "markdown",
      "metadata": {
        "id": "TKdgycjMbURZ"
      },
      "source": [
        "7. 다음 코드의 실행 결과를 쓰시오. "
      ]
    },
    {
      "cell_type": "code",
      "execution_count": null,
      "metadata": {
        "id": "oVezP-RQbUXg",
        "outputId": "d46abcf5-f705-4192-b58e-853fb62f1beb"
      },
      "outputs": [
        {
          "name": "stdout",
          "output_type": "stream",
          "text": [
            "apple\n"
          ]
        }
      ],
      "source": [
        "fruit = 'apple'\n",
        "if fruit == 'Apple':\n",
        "    fruit = 'Apple'\n",
        "elif fruit == 'fruit':\n",
        "    fruit = 'fruit'\n",
        "else:\n",
        "    fruit = fruit\n",
        "print(fruit)"
      ]
    },
    {
      "cell_type": "markdown",
      "metadata": {
        "id": "PdZy--SYbY69"
      },
      "source": [
        "8. 다음 코드의 실행 결과를 쓰시오."
      ]
    },
    {
      "cell_type": "code",
      "execution_count": null,
      "metadata": {
        "id": "XQioaRjsbZPF",
        "outputId": "d76d92c1-3800-4b15-bc9a-7c769204baa7"
      },
      "outputs": [
        {
          "name": "stdout",
          "output_type": "stream",
          "text": [
            "0\n"
          ]
        },
        {
          "name": "stderr",
          "output_type": "stream",
          "text": [
            "<>:5: SyntaxWarning: \"is\" with a literal. Did you mean \"==\"?\n",
            "<>:8: SyntaxWarning: \"is\" with a literal. Did you mean \"==\"?\n",
            "<>:5: SyntaxWarning: \"is\" with a literal. Did you mean \"==\"?\n",
            "<>:8: SyntaxWarning: \"is\" with a literal. Did you mean \"==\"?\n",
            "/tmp/ipykernel_363/1541581706.py:5: SyntaxWarning: \"is\" with a literal. Did you mean \"==\"?\n",
            "  if i is 5:\n",
            "/tmp/ipykernel_363/1541581706.py:8: SyntaxWarning: \"is\" with a literal. Did you mean \"==\"?\n",
            "  if i is 10:\n"
          ]
        }
      ],
      "source": [
        "# i > 1 > 2 > 3> 4 > 5 > 6 > 7 > 8 > 9\n",
        "# warning : error는 아니고 주의사항을 알려줌\n",
        "first_value = 0\n",
        "second_value = 0\n",
        "for i in range(1, 10):\n",
        "    if i is 5:\n",
        "        continue\n",
        "        first_value = i\n",
        "    if i is 10:\n",
        "        break\n",
        "        second_value = i\n",
        "        \n",
        "print(first_value + second_value)"
      ]
    },
    {
      "cell_type": "markdown",
      "metadata": {
        "id": "h7WzS5PIbZUp"
      },
      "source": [
        "9. 다음 코드의 실행 결과를 쓰시오."
      ]
    },
    {
      "cell_type": "code",
      "execution_count": null,
      "metadata": {
        "id": "ji58e7hSbZYf",
        "outputId": "b0af3eb0-1311-454a-abff-6bb600b3f16a"
      },
      "outputs": [
        {
          "name": "stdout",
          "output_type": "stream",
          "text": [
            "986531\n"
          ]
        },
        {
          "name": "stderr",
          "output_type": "stream",
          "text": [
            "<>:6: SyntaxWarning: \"is\" with a literal. Did you mean \"==\"?\n",
            "<>:6: SyntaxWarning: \"is\" with a literal. Did you mean \"==\"?\n",
            "<>:6: SyntaxWarning: \"is\" with a literal. Did you mean \"==\"?\n",
            "<>:6: SyntaxWarning: \"is\" with a literal. Did you mean \"==\"?\n",
            "/tmp/ipykernel_363/1680201882.py:6: SyntaxWarning: \"is\" with a literal. Did you mean \"==\"?\n",
            "  elif i is 7 or i is 10:\n",
            "/tmp/ipykernel_363/1680201882.py:6: SyntaxWarning: \"is\" with a literal. Did you mean \"==\"?\n",
            "  elif i is 7 or i is 10:\n"
          ]
        }
      ],
      "source": [
        "# 1,3,5,6,8,9\n",
        "num = \"\"\n",
        "for i in range(10):\n",
        "    if i <= 5 and (i % 2)==0:\n",
        "        continue\n",
        "    elif i is 7 or i is 10:\n",
        "        continue\n",
        "    else:\n",
        "        num = str(i) + num # 앞에 추가 \n",
        "        # num = num + str(i) # 뒤에 추가 \n",
        "print(num)\n"
      ]
    },
    {
      "cell_type": "markdown",
      "metadata": {
        "id": "vcy2NCb2bZcy"
      },
      "source": [
        "10. 다음 함수는 작업의 상태를 나타내는 함수이다. 코드의 실행 결과를 쓰시오."
      ]
    },
    {
      "cell_type": "code",
      "execution_count": null,
      "metadata": {
        "colab": {
          "base_uri": "https://localhost:8080/"
        },
        "id": "Tw7sh-nbbZgh",
        "outputId": "e47ae090-22ae-442e-80f3-c6913fac5d0f"
      },
      "outputs": [
        {
          "name": "stdout",
          "output_type": "stream",
          "text": [
            "89\n",
            "78\n",
            "67\n",
            "56\n",
            "45\n",
            "34\n",
            "23\n",
            "12\n",
            "1\n",
            "-10\n"
          ]
        }
      ],
      "source": [
        "def work_status(task,worker,day):\n",
        "  rest_task = task\n",
        "  for k in range(day):\n",
        "    if rest_task > 0:\n",
        "      rest_task = rest_task-worker\n",
        "      print(rest_task)\n",
        "    elif rest_task <= 0:\n",
        "      print(\"Task end\")\n",
        "  if rest_task > 0:\n",
        "    print(\"Hire more workers\")\n",
        "        \n",
        "work_status(100, 11, 10)\n",
        "# work_status(100, 1, 10)\n",
        "# work_status(100, 9, 10)\n",
        "# work_status(100, 10, 10)"
      ]
    },
    {
      "cell_type": "markdown",
      "metadata": {
        "id": "XiLo7t9tbZjg"
      },
      "source": [
        "11. 다음 코드의 실행 결과를 쓰시오."
      ]
    },
    {
      "cell_type": "code",
      "execution_count": null,
      "metadata": {
        "id": "GVg65_ozbZnY",
        "outputId": "5dfcab3f-8a3c-4fb2-ac66-0d22681fcf7b"
      },
      "outputs": [
        {
          "name": "stdout",
          "output_type": "stream",
          "text": [
            "45\n"
          ]
        }
      ],
      "source": [
        "score_list = [5, 10, 15, 20, 25, 30]\n",
        "\n",
        "sum_of_score = 0\n",
        "i = 0\n",
        "while i < len(score_list) :\n",
        "    if i % 2 == 0 :\n",
        "        sum_of_score += score_list[i]\n",
        "    i += 1\n",
        "# 2로 나눠서 0인 index만 더해준다.\n",
        "print(sum_of_score)"
      ]
    },
    {
      "cell_type": "markdown",
      "metadata": {
        "id": "PiGGzJawbZr0"
      },
      "source": [
        "12. 다음 코드의 실행 결과를 쓰시오."
      ]
    },
    {
      "cell_type": "code",
      "execution_count": null,
      "metadata": {
        "id": "--HQIuIicese",
        "outputId": "29875df0-8aa2-4d98-aef7-a26130fcfed9"
      },
      "outputs": [
        {
          "name": "stdout",
          "output_type": "stream",
          "text": [
            "2600\n",
            "70\n"
          ]
        }
      ],
      "source": [
        "coupon = 0\n",
        "money = 200000\n",
        "coffee = 3500\n",
        "coffee_num = 0 \n",
        "while money > coffee:\n",
        "    if coupon < 4:\n",
        "        money = money - coffee\n",
        "        coupon += 1\n",
        "        coffee_num +=1\n",
        "    else:\n",
        "        money += 2800 # 커피쿠폰이 4개면 2800원을 돌려준다. \n",
        "        coupon = 0\n",
        "print(money)\n",
        "print(coffee_num)"
      ]
    },
    {
      "cell_type": "markdown",
      "metadata": {
        "id": "0QHGcrzVce2I"
      },
      "source": [
        "13. 다음 코드는 변수 a와 b의 숫자를 비교하여 숫자와 자릿수가 같으면 ‘strike’, 숫자는 서로 포함하나 자릿수가 다르면 ‘ball’로 카운트하는 프로그램이다. 다음 프로그램의 실행 결과를 쓰시오. 또한, 결과값이 맞지 않는 이유를 쓰고, 올바른 결과값이 나오도록 코드를 수정하시오."
      ]
    },
    {
      "cell_type": "code",
      "execution_count": null,
      "metadata": {
        "id": "PXQEyinf6UGs",
        "outputId": "90655051-7514-40a9-b028-907754fa3436"
      },
      "outputs": [
        {
          "data": {
            "text/plain": [
              "1"
            ]
          },
          "execution_count": 30,
          "metadata": {},
          "output_type": "execute_result"
        }
      ],
      "source": [
        "\"399\".find(\"9\")"
      ]
    },
    {
      "cell_type": "code",
      "execution_count": null,
      "metadata": {
        "id": "LeKKl9yI6UGs",
        "outputId": "28e19d0d-c0e8-4a44-f426-e022965fd3f5"
      },
      "outputs": [
        {
          "data": {
            "text/plain": [
              "2"
            ]
          },
          "execution_count": 34,
          "metadata": {},
          "output_type": "execute_result"
        }
      ],
      "source": [
        "\"399\".count(\"9\")"
      ]
    },
    {
      "cell_type": "code",
      "execution_count": null,
      "metadata": {
        "id": "jyOoH6JIce7C",
        "outputId": "48bf4745-ff02-4d39-bfcd-0d7cb34c9301"
      },
      "outputs": [
        {
          "name": "stdout",
          "output_type": "stream",
          "text": [
            "Strike: 3 Ball: 0\n"
          ]
        }
      ],
      "source": [
        "a = \"369\"\n",
        "b = \"693\"\n",
        "# 결과 3볼\n",
        "\n",
        "a = \"399\"\n",
        "b = \"399\"\n",
        "\n",
        "# a = \"396\"\n",
        "# b = \"693\"\n",
        "# 결과 2볼 1스트라이크 \n",
        "\n",
        "strike = 0\n",
        "ball = 0\n",
        "\n",
        "for number in a:\n",
        "    if b.count(number) >= 1:\n",
        "        if b.find(number) != a.find(number):\n",
        "            ball += 1\n",
        "        else:\n",
        "            strike += 1\n",
        "\n",
        "print(\"Strike:\", strike, \"Ball:\", ball)\n"
      ]
    },
    {
      "cell_type": "markdown",
      "metadata": {
        "id": "nZSWCnyice-v"
      },
      "source": [
        "14. 다음과 같이 코드를 작성했을 때, 실행 결과로 알맞은 것은?"
      ]
    },
    {
      "cell_type": "code",
      "execution_count": null,
      "metadata": {
        "id": "2q1_VWsQcfCE",
        "outputId": "92967c12-3cea-4e52-fade-2a970ef61dbd"
      },
      "outputs": [
        {
          "name": "stdout",
          "output_type": "stream",
          "text": [
            "6\n"
          ]
        }
      ],
      "source": [
        "list_data_a = [1, 2]\n",
        "list_data_b = [3, 4]\n",
        "\n",
        "for i in list_data_a:\n",
        "    for j in list_data_b:\n",
        "        result = i + j\n",
        "print(result)"
      ]
    },
    {
      "cell_type": "markdown",
      "metadata": {
        "id": "oCSI_addcfYY"
      },
      "source": [
        "15. 다음과 같이 코드를 작성했을 때, 실행 결과로 알맞은 것은? "
      ]
    },
    {
      "cell_type": "code",
      "execution_count": null,
      "metadata": {
        "id": "tOVA9GWBcfjW",
        "outputId": "a404fee7-1a5a-442e-927c-8c4a292c879a"
      },
      "outputs": [
        {
          "name": "stdout",
          "output_type": "stream",
          "text": [
            "[1, 2, 3, 4, 5, 6]\n"
          ]
        }
      ],
      "source": [
        "list_1 = [[1, 2], [3], [4, 5, 6]]\n",
        "a,b,c = list_1\n",
        "list_2 = a + b + c\n",
        "\n",
        "print(list_2)"
      ]
    }
  ],
  "metadata": {
    "colab": {
      "provenance": [],
      "include_colab_link": true
    },
    "kernelspec": {
      "display_name": "Python 3",
      "name": "python3"
    },
    "language_info": {
      "codemirror_mode": {
        "name": "ipython",
        "version": 3
      },
      "file_extension": ".py",
      "mimetype": "text/x-python",
      "name": "python",
      "nbconvert_exporter": "python",
      "pygments_lexer": "ipython3",
      "version": "3.10.11"
    }
  },
  "nbformat": 4,
  "nbformat_minor": 0
}