{
 "cells": [
  {
   "cell_type": "code",
   "execution_count": 1,
   "metadata": {},
   "outputs": [
    {
     "ename": "IndentationError",
     "evalue": "expected an indented block (2729318998.py, line 2)",
     "output_type": "error",
     "traceback": [
      "\u001b[0;36m  Cell \u001b[0;32mIn[1], line 2\u001b[0;36m\u001b[0m\n\u001b[0;31m    print(\"맞아요\")\u001b[0m\n\u001b[0m    ^\u001b[0m\n\u001b[0;31mIndentationError\u001b[0m\u001b[0;31m:\u001b[0m expected an indented block\n"
     ]
    }
   ],
   "source": [
    "if  5 > 2 :\n",
    "print(\"맞아요\")"
   ]
  },
  {
   "cell_type": "code",
   "execution_count": 2,
   "metadata": {},
   "outputs": [
    {
     "name": "stdout",
     "output_type": "stream",
     "text": [
      "맞아요\n"
     ]
    }
   ],
   "source": [
    "if  5 > 2 :\n",
    "    print(\"맞아요\")"
   ]
  },
  {
   "attachments": {},
   "cell_type": "markdown",
   "metadata": {},
   "source": [
    "### 자동사냥 (중첩반복문)"
   ]
  },
  {
   "cell_type": "code",
   "execution_count": 4,
   "metadata": {},
   "outputs": [
    {
     "name": "stdout",
     "output_type": "stream",
     "text": [
      "<system>몬스터가 약해서 경험치 패널티가 붙습니다.: 50.0\n",
      "<system>몬스터가 약해서 경험치 패널티가 붙습니다.: 100.0\n",
      "<system>몬스터가 약해서 경험치 패널티가 붙습니다.: 150.0\n",
      "<system>몬스터가 약해서 경험치 패널티가 붙습니다.: 200.0\n",
      "<system>몬스터가 약해서 경험치 패널티가 붙습니다.: 250.0\n",
      "<system>경험치 획득 : 600\n",
      "<system>경험치 획득 : 700\n",
      "경험치가 두배로 붙어 레벨업!\n"
     ]
    }
   ],
   "source": [
    "exp=0\n",
    "\n",
    "monster_list = [100,200,300,400,500,600,700,800,90,1000]\n",
    "for i in monster_list:\n",
    "\n",
    "    #첫번째 if \n",
    "    if i > 500 :\n",
    "        print(f\"<system>경험치 획득 : {i}\")\n",
    "        exp = exp + i \n",
    "    else:\n",
    "        print(f\"<system>몬스터가 약해서 경험치 패널티가 붙습니다.: {i/2}\")\n",
    "        exp=exp + (i/2)\n",
    "\n",
    "    #두번째 if\n",
    "    if exp > 2000:\n",
    "        print(\"경험치가 두배로 붙어 레벨업!\")\n",
    "        break\n",
    "    \n"
   ]
  },
  {
   "cell_type": "code",
   "execution_count": 5,
   "metadata": {},
   "outputs": [
    {
     "name": "stdout",
     "output_type": "stream",
     "text": [
      "2*2=4\n",
      "2*4=8\n",
      "2*6=12\n",
      "2*8=16\n",
      "4*2=8\n",
      "4*4=16\n",
      "4*6=24\n",
      "4*8=32\n",
      "6*2=12\n",
      "6*4=24\n",
      "6*6=36\n",
      "6*8=48\n",
      "8*2=16\n",
      "8*4=32\n",
      "8*6=48\n",
      "8*8=64\n"
     ]
    }
   ],
   "source": [
    "for i in range(1,10,1):\n",
    "    if(i%2==0):\n",
    "        for j in range(1,10,1):\n",
    "            if(j%2!=1):\n",
    "                print(f\"{i}*{j}={i*j}\")"
   ]
  },
  {
   "attachments": {},
   "cell_type": "markdown",
   "metadata": {},
   "source": [
    "# 함수"
   ]
  },
  {
   "cell_type": "code",
   "execution_count": 9,
   "metadata": {},
   "outputs": [
    {
     "name": "stdout",
     "output_type": "stream",
     "text": [
      "8\n",
      "8\n",
      "8\n",
      "8\n"
     ]
    }
   ],
   "source": [
    "def sum_number(a,b):\n",
    "    print(a+b) #8\n",
    "    return a+b #8\n",
    "\n",
    "print(sum_number(3,5)) #8\n",
    "c=sum_number(3,5)\n",
    "print(c) #8"
   ]
  },
  {
   "cell_type": "code",
   "execution_count": 5,
   "metadata": {},
   "outputs": [
    {
     "name": "stdout",
     "output_type": "stream",
     "text": [
      "[3, 1, 4, 2, 5, 7]\n",
      "[7, 5, 4, 3, 2, 1]\n",
      "[7, 5, 4, 3, 2, 1]\n",
      "None\n"
     ]
    }
   ],
   "source": [
    "a=[3,1,4,2,5,7]\n",
    "\n",
    "c=sorted(a,reverse=True) #reverse=True 큰수 부터 나옴\n",
    "print(a)\n",
    "print(c)\n",
    "\n",
    "d=a.sort(reverse=True)\n",
    "print(a)\n",
    "print(d)"
   ]
  },
  {
   "attachments": {},
   "cell_type": "markdown",
   "metadata": {},
   "source": [
    "## 문제"
   ]
  },
  {
   "cell_type": "code",
   "execution_count": 26,
   "metadata": {},
   "outputs": [
    {
     "ename": "AttributeError",
     "evalue": "'int' object has no attribute 'sort'",
     "output_type": "error",
     "traceback": [
      "\u001b[0;31m---------------------------------------------------------------------------\u001b[0m",
      "\u001b[0;31mAttributeError\u001b[0m                            Traceback (most recent call last)",
      "Cell \u001b[0;32mIn[26], line 11\u001b[0m\n\u001b[1;32m      8\u001b[0m     \u001b[39mreturn\u001b[39;00m \u001b[39mint\u001b[39m(new_number)\n\u001b[1;32m     10\u001b[0m \u001b[39mfor\u001b[39;00m i \u001b[39min\u001b[39;00m \u001b[39mrange\u001b[39m(\u001b[39m10\u001b[39m):\n\u001b[0;32m---> 11\u001b[0m     soultion(random\u001b[39m.\u001b[39;49mrandint(\u001b[39m10000000\u001b[39;49m,\u001b[39m99999999\u001b[39;49m))\n",
      "Cell \u001b[0;32mIn[26], line 5\u001b[0m, in \u001b[0;36msoultion\u001b[0;34m(n)\u001b[0m\n\u001b[1;32m      3\u001b[0m \u001b[39mdef\u001b[39;00m \u001b[39msoultion\u001b[39m(n):\n\u001b[1;32m      4\u001b[0m     rever\u001b[39m=\u001b[39m\u001b[39mint\u001b[39m(n)\n\u001b[0;32m----> 5\u001b[0m     rever\u001b[39m.\u001b[39;49msort()\n\u001b[1;32m      6\u001b[0m     rever\u001b[39m.\u001b[39mreverse()\n\u001b[1;32m      7\u001b[0m     \u001b[39mprint\u001b[39m(\u001b[39mf\u001b[39m\u001b[39m\"\u001b[39m\u001b[39m원래값 : \u001b[39m\u001b[39m{\u001b[39;00mn\u001b[39m}\u001b[39;00m\u001b[39m - 정렬된 값 : \u001b[39m\u001b[39m{\u001b[39;00mnew_number\u001b[39m}\u001b[39;00m\u001b[39m\"\u001b[39m)\n",
      "\u001b[0;31mAttributeError\u001b[0m: 'int' object has no attribute 'sort'"
     ]
    }
   ],
   "source": [
    "import random\n",
    "\n",
    "def soultion(n):\n",
    "    print(f\"원래값 : {n} - 정렬된 값 : {new_number}\")\n",
    "   \n",
    "\n",
    "for i in range(10):\n",
    "    soultion(random.randint(10000000,99999999))"
   ]
  },
  {
   "cell_type": "code",
   "execution_count": 22,
   "metadata": {},
   "outputs": [],
   "source": [
    "def solution(n):\n",
    "    ls = list(str(n))\n",
    "    ls.sort(reverse = True)\n",
    "    return int(\"\".join(ls))"
   ]
  },
  {
   "cell_type": "code",
   "execution_count": 24,
   "metadata": {},
   "outputs": [
    {
     "name": "stdout",
     "output_type": "stream",
     "text": [
      "<function soultion at 0x7f79fc3bdee0>\n"
     ]
    }
   ],
   "source": [
    "print"
   ]
  },
  {
   "cell_type": "code",
   "execution_count": 41,
   "metadata": {},
   "outputs": [
    {
     "name": "stdout",
     "output_type": "stream",
     "text": [
      "원래값 : 53731294 -> 정렬된 값 : 97543321\n",
      "원래값 : 75244042 -> 정렬된 값 : 75444220\n",
      "원래값 : 37435565 -> 정렬된 값 : 76555433\n",
      "원래값 : 82870237 -> 정렬된 값 : 88773220\n",
      "원래값 : 85903431 -> 정렬된 값 : 98543310\n",
      "원래값 : 38058396 -> 정렬된 값 : 98865330\n",
      "원래값 : 16141639 -> 정렬된 값 : 96643111\n",
      "원래값 : 18855761 -> 정렬된 값 : 88765511\n",
      "원래값 : 75480175 -> 정렬된 값 : 87755410\n",
      "원래값 : 36188592 -> 정렬된 값 : 98865321\n"
     ]
    }
   ],
   "source": [
    "import random\n",
    "\n",
    "def soultion(n):\n",
    "\n",
    "    a=list(str(n))\n",
    "    b=sorted(a,reverse=True)\n",
    "    c=\"\".join(b)\n",
    "\n",
    "    new_number = c\n",
    "    print(f\"원래값 : {n} -> 정렬된 값 : {new_number}\")\n",
    "\n",
    "for i in range(10):\n",
    "    soultion(random.randint(10000000,99999999))"
   ]
  },
  {
   "cell_type": "code",
   "execution_count": null,
   "metadata": {},
   "outputs": [],
   "source": []
  }
 ],
 "metadata": {
  "kernelspec": {
   "display_name": "webc",
   "language": "python",
   "name": "python3"
  },
  "language_info": {
   "codemirror_mode": {
    "name": "ipython",
    "version": 3
   },
   "file_extension": ".py",
   "mimetype": "text/x-python",
   "name": "python",
   "nbconvert_exporter": "python",
   "pygments_lexer": "ipython3",
   "version": "3.9.16"
  },
  "orig_nbformat": 4
 },
 "nbformat": 4,
 "nbformat_minor": 2
}
