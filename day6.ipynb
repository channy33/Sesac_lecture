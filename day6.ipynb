{
  "cells": [
    {
      "cell_type": "markdown",
      "metadata": {
        "id": "view-in-github",
        "colab_type": "text"
      },
      "source": [
        "<a href=\"https://colab.research.google.com/github/channy33/Sesac_lecture/blob/master/day6.ipynb\" target=\"_parent\"><img src=\"https://colab.research.google.com/assets/colab-badge.svg\" alt=\"Open In Colab\"/></a>"
      ]
    },
    {
      "cell_type": "markdown",
      "metadata": {
        "id": "PDv-nG5hlqjV"
      },
      "source": [
        "```\n",
        "과목: 수학\n",
        "점수: 20\n",
        "추가 하실 건가요?\n",
        "    yes or no : yes\n",
        "과목: 국어\n",
        "점수: 50\n",
        "추가 하실 건가요?\n",
        "    yes or no : no\n",
        "수학 : 20 \n",
        "국어 : 50 \n",
        "평균 : 35\n",
        "```"
      ]
    },
    {
      "cell_type": "code",
      "execution_count": null,
      "metadata": {
        "id": "8pI-GqZNlqja"
      },
      "outputs": [],
      "source": [
        "# type hint\n",
        "def input_subject(subject_list:list) -> None:\n",
        "    data = input(\"과목 : \")\n",
        "    subject_list.append(data)\n",
        "\n",
        "def input_score(score_list:list) -> None:\n",
        "    data = int(input(\"점수 : \"))\n",
        "    score_list.append(data)\n",
        "\n",
        "def average(score_list:list) -> float:\n",
        "    acc = 0\n",
        "    for score in score_list:\n",
        "        acc += score\n",
        "    average = acc/len(score_list)\n",
        "    # round 함수를 사용하면 반올림 처리 가능 \n",
        "    return average\n",
        "\n",
        "\n",
        "def main():\n",
        "    score_list = []\n",
        "    subject_list = []\n",
        "    while True:\n",
        "        input_subject(subject_list)\n",
        "        input_score(score_list)\n",
        "        answer = input(\"\"\"\n",
        "        과목을 추가 하실 건가요? \n",
        "        Yes or No : \n",
        "        \"\"\")\n",
        "        if answer.upper() == \"YES\":\n",
        "            continue\n",
        "        else:\n",
        "            for sub,sco in zip(subject_list, score_list):\n",
        "                print(f\"과목 : {sub}\")\n",
        "                print(f\"점수 : {sco}\")\n",
        "            aver = average(score_list)\n",
        "            print(f\"평균 : {aver}\")\n",
        "            break"
      ]
    },
    {
      "cell_type": "code",
      "execution_count": null,
      "metadata": {
        "id": "vU5FMV0Plqjb"
      },
      "outputs": [],
      "source": []
    },
    {
      "cell_type": "code",
      "execution_count": null,
      "metadata": {
        "id": "ISTLXhbblqjc",
        "outputId": "1ca30880-6523-49ac-f86a-1b1b2c49f0e9"
      },
      "outputs": [
        {
          "name": "stdout",
          "output_type": "stream",
          "text": [
            "과목 : 종교\n",
            "점수 : 0\n",
            "과목 : 수학\n",
            "점수 : 50\n",
            "평균 : 25.0\n"
          ]
        }
      ],
      "source": [
        "main()"
      ]
    },
    {
      "cell_type": "code",
      "execution_count": null,
      "metadata": {
        "id": "5zLcupEglqjd"
      },
      "outputs": [],
      "source": []
    }
  ],
  "metadata": {
    "colab": {
      "provenance": [],
      "include_colab_link": true
    },
    "kernelspec": {
      "display_name": "Python 3",
      "name": "python3"
    },
    "language_info": {
      "codemirror_mode": {
        "name": "ipython",
        "version": 3
      },
      "file_extension": ".py",
      "mimetype": "text/x-python",
      "name": "python",
      "nbconvert_exporter": "python",
      "pygments_lexer": "ipython3",
      "version": "3.10.11"
    }
  },
  "nbformat": 4,
  "nbformat_minor": 0
}