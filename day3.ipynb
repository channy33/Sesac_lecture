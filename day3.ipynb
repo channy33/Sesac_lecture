{
  "cells": [
    {
      "cell_type": "markdown",
      "metadata": {
        "id": "view-in-github",
        "colab_type": "text"
      },
      "source": [
        "<a href=\"https://colab.research.google.com/github/channy33/Sesac_lecture/blob/master/day3.ipynb\" target=\"_parent\"><img src=\"https://colab.research.google.com/assets/colab-badge.svg\" alt=\"Open In Colab\"/></a>"
      ]
    },
    {
      "cell_type": "markdown",
      "metadata": {
        "id": "EdymAD-BasSI"
      },
      "source": [
        "(60점을 기준 이상 : 합격, 미만: 불합격)\n",
        "점수를 입력하세요 : xx  \n",
        "xx 점으로 합격입니다.\n",
        "\n",
        "점수를 입력하세요 : xx  \n",
        "xx 점으로 불합격입니다."
      ]
    },
    {
      "cell_type": "code",
      "execution_count": null,
      "metadata": {
        "id": "ltQQ1E_masSP",
        "outputId": "89f3cbc3-c083-45d0-c2ae-8c2511c87416"
      },
      "outputs": [
        {
          "name": "stdout",
          "output_type": "stream",
          "text": [
            "75 점으로 합격 입니다.\n"
          ]
        }
      ],
      "source": [
        "score = 75\n",
        "if score>=60:\n",
        "    print(f\"{score} 점으로 합격 입니다.\")\n",
        "else:\n",
        "    print(f\"{score} 점으로 불합격 입니다.\")"
      ]
    },
    {
      "cell_type": "code",
      "execution_count": null,
      "metadata": {
        "id": "j8BWXyB8asSV",
        "outputId": "e9e14267-53a7-4e7b-f072-27ebbca069c4"
      },
      "outputs": [
        {
          "name": "stdout",
          "output_type": "stream",
          "text": [
            "1 점으로 불합격 입니다.\n"
          ]
        }
      ],
      "source": [
        "score = int(input(\"점수를 입력하세요 : \"))\n",
        "conditions = score >= 60\n",
        "if conditions:\n",
        "    print(f\"{score} 점으로 합격 입니다.\")\n",
        "else:\n",
        "    print(f\"{score} 점으로 불합격 입니다.\")"
      ]
    },
    {
      "cell_type": "code",
      "execution_count": null,
      "metadata": {
        "id": "HgxPmOWEasSW",
        "outputId": "e694a858-1fd3-44fa-bd05-5a4864139566"
      },
      "outputs": [
        {
          "name": "stdout",
          "output_type": "stream",
          "text": [
            "불합격 입니다. \n"
          ]
        }
      ],
      "source": [
        "# 수학점수와 영어 점수를 입력받고\n",
        "# 둘다 80점 이상이면 합격, 둘중에 하나라도 만족하지 못하면 불합격\n",
        "math_score = int(input(\"수학 점수를 입력하세요 : \"))\n",
        "eng_score = int(input(\"영어 점수를 입력하세요 : \"))\n",
        "condition_1 = math_score >= 80\n",
        "condition_2 = eng_score >= 80 \n",
        "# AND : 두개의 조건이 True(1) 인경우 -> True(1)\n",
        "pass_condition = condition_1 and condition_2\n",
        "# print(pass_condition)\n",
        "if pass_condition:\n",
        "    print(f\"수학 점수: {math_score}, 영어점수: {eng_score} \\n합격 입니다. \")\n",
        "else:\n",
        "    print(\"불합격 입니다. \")"
      ]
    },
    {
      "cell_type": "code",
      "execution_count": null,
      "metadata": {
        "id": "x0fI6Nq9asSY"
      },
      "outputs": [],
      "source": [
        "condition = True\n",
        "if condition:\n",
        "    pass\n",
        "else:\n",
        "    pass\n",
        "\n",
        "def fun_1():\n",
        "    pass"
      ]
    },
    {
      "cell_type": "code",
      "execution_count": null,
      "metadata": {
        "id": "w4F_N7VSasSZ",
        "outputId": "22c5cf3c-257b-4be8-b74a-c27a334c40ab"
      },
      "outputs": [
        {
          "name": "stdout",
          "output_type": "stream",
          "text": [
            "else\n"
          ]
        }
      ],
      "source": [
        "condition_3 = False\n",
        "condition_4 = False\n",
        "condition_5 = False\n",
        "\n",
        "if condition_3:\n",
        "    print(\"if\")\n",
        "elif condition_4:\n",
        "    print(\"elif1\")\n",
        "elif condition_5:\n",
        "    print(\"elif2\")\n",
        "else:\n",
        "    print(\"else\")"
      ]
    },
    {
      "cell_type": "markdown",
      "metadata": {
        "id": "v4HZOW5casSa"
      },
      "source": [
        "### 문제1.\n",
        "```\n",
        "srp라는 변수에 srp='가위'일 경우 '이겼다.' 출력\n",
        "srp='바위' 일 경우 '졌다'출력\n",
        "srp='보' 일 경우 '비겼다' 출력\n",
        "```\n",
        "\n",
        "### 문제2\n",
        "```\n",
        "태어난 연도를 입력하면 연령대를 출력하게 코딩하시오.\n",
        "- 0세 이하 : 아직 태어나지 않았습니다.\n",
        "- 80세 이상 : 측정할 수 없습니다. \n",
        "예)\n",
        "태어난 연도를 입력하시오: 2004\n",
        "나의 나이는 20입니다. 20대입니다.\n",
        "\n",
        "- 값을 입력하는 함수는 input 함수 입니다.\n",
        "- if문을 사용하는 방법, 사용하지 않는 방법\n",
        "```\n",
        "\n",
        "### 문제3\n",
        "```\n",
        "점수를 입력받고 학점이 출력하게 만들어 보세요\n",
        "- 정수만을 입력받아야 합니다.\n",
        "- 90 점 이상 A, 90미만 80 이상 B, 80 미만 70이상 C, 70 미만 60이상 D, 60 미만 F\n",
        "- 실행결과\n",
        "점수를 입력하세요 : 망했다 #isdigit()\n",
        "잘못입력했습니다\n",
        "\n",
        "정수를 입력하세요 : 100\n",
        "당신의 등급 : A\n",
        "\n",
        "정수를 입력하세요 : 110\n",
        "옳바른 점수를 입력하세요\n",
        "\n",
        "```"
      ]
    },
    {
      "cell_type": "code",
      "execution_count": null,
      "metadata": {
        "id": "Ii0vsHz2asSb",
        "outputId": "6f33a55e-a26e-4e92-ec13-15cc3d275661"
      },
      "outputs": [
        {
          "name": "stdout",
          "output_type": "stream",
          "text": [
            "이겼다.\n"
          ]
        }
      ],
      "source": [
        "srp = input(\"가위 바위 보 : \")\n",
        "\n",
        "if srp == \"가위\":\n",
        "    print(\"이겼다.\")\n",
        "elif srp == \"바위\":\n",
        "    print(\"졌다.\")\n",
        "elif srp == \"보\":\n",
        "    print(\"비겼다.\")\n",
        "else:\n",
        "    print(\"잘못내셨습니다.\")"
      ]
    },
    {
      "cell_type": "code",
      "execution_count": null,
      "metadata": {
        "id": "DlptPQDHasSc",
        "outputId": "d3f8212a-07d6-4aff-9401-6a53995fb94e"
      },
      "outputs": [
        {
          "name": "stdout",
          "output_type": "stream",
          "text": [
            "나의 나이는 39입니다. 30대입니다\n"
          ]
        }
      ],
      "source": [
        "year = int(input(\"태어난 연도를 입력 하세요 : \"))\n",
        "age = 2023 - year + 1\n",
        "# if 0 ~ 80 세\n",
        "# elif ~ 0 세\n",
        "# else 80 세 이상\n",
        "if age > 0 and age < 80:\n",
        "    if age < 10:\n",
        "        print(f\"나의 나이는 {age}입니다. 유년기 입니다\")\n",
        "    elif age < 20:\n",
        "        print(f\"나의 나이는 {age}입니다. 10대입니다\")\n",
        "    elif age < 30:\n",
        "        print(f\"나의 나이는 {age}입니다. 20대입니다\")\n",
        "    elif age < 40:\n",
        "        print(f\"나의 나이는 {age}입니다. 30대입니다\")\n",
        "    elif age < 50:\n",
        "        print(f\"나의 나이는 {age}입니다. 40대입니다\")\n",
        "    elif age < 60:\n",
        "        print(f\"나의 나이는 {age}입니다. 50대입니다\")\n",
        "    elif age < 70:\n",
        "        print(f\"나의 나이는 {age}입니다. 60대입니다\")\n",
        "    elif age < 80:\n",
        "        print(f\"나의 나이는 {age}입니다. 70대입니다\")\n",
        "elif age <= 0:\n",
        "    print(\"아직 태어나지 않았습니다.\")\n",
        "else:\n",
        "    print(\"측정할 수 없습니다.\")\n"
      ]
    },
    {
      "cell_type": "code",
      "execution_count": null,
      "metadata": {
        "id": "ai18PFz5asSd",
        "outputId": "7efac950-31ad-4faf-b164-bb7edfe47863"
      },
      "outputs": [
        {
          "name": "stdout",
          "output_type": "stream",
          "text": [
            "나의 나이는 1826입니다. 1820대입니다\n"
          ]
        }
      ],
      "source": [
        "year = int(input(\"태어난 연도를 입력 하세요 : \"))\n",
        "age = 2023 - year + 1\n",
        "gener = (age//10) * 10 \n",
        "print(f\"나의 나이는 {age}입니다. {gener}대입니다\")"
      ]
    },
    {
      "cell_type": "code",
      "execution_count": null,
      "metadata": {
        "id": "wGQbpC6KasSe"
      },
      "outputs": [],
      "source": [
        "# 11시 5분에 시작"
      ]
    },
    {
      "cell_type": "code",
      "execution_count": null,
      "metadata": {
        "id": "VLSzSs20asSf",
        "outputId": "114e41fe-2c4c-4b4a-ce39-172ca6d732aa"
      },
      "outputs": [
        {
          "name": "stdout",
          "output_type": "stream",
          "text": [
            "재수강 하세요\n"
          ]
        }
      ],
      "source": [
        "\n",
        "# 문제3 번\n",
        "\n",
        "score = int(input(\"점수를 입력 하세요 : \"))\n",
        "if score > 100:\n",
        "    print(\"다시 입력하세요\")\n",
        "elif score >= 90:\n",
        "    print(\"A\")\n",
        "elif score >= 80:\n",
        "    print(\"B\")\n",
        "elif score >= 70:\n",
        "    print(\"C\")\n",
        "elif score >= 60:\n",
        "    print(\"D\")\n",
        "else:\n",
        "    print(\"재수강 하세요\")"
      ]
    },
    {
      "cell_type": "code",
      "execution_count": null,
      "metadata": {
        "id": "XhLrRwz3asSf",
        "outputId": "0885a834-b9f5-459b-9978-51fd48c430ea"
      },
      "outputs": [
        {
          "name": "stdout",
          "output_type": "stream",
          "text": [
            "재수강 하세요\n"
          ]
        }
      ],
      "source": [
        "# https://docs.python.org/3/library/stdtypes.html#str.isdigit\n",
        "\n",
        "\n",
        "score = input(\"점수를 입력 하세요 : \")\n",
        "if score.isdigit():\n",
        "    score = int(score)\n",
        "    if score > 100:\n",
        "        print(\"다시 입력하세요\")\n",
        "    elif score >= 90:\n",
        "        print(\"A\")\n",
        "    elif score >= 80:\n",
        "        print(\"B\")\n",
        "    elif score >= 70:\n",
        "        print(\"C\")\n",
        "    elif score >= 60:\n",
        "        print(\"D\")\n",
        "    else:\n",
        "        print(\"재수강 하세요\")\n",
        "else:\n",
        "    print(\"올바른 점수를 입력하세요\")"
      ]
    },
    {
      "cell_type": "code",
      "execution_count": null,
      "metadata": {
        "id": "xNAjYJpWasSg",
        "outputId": "4f1d2f39-2e51-4b44-d8f9-bad36a27fe6f"
      },
      "outputs": [
        {
          "data": {
            "text/plain": [
              "Ellipsis"
            ]
          },
          "execution_count": 167,
          "metadata": {},
          "output_type": "execute_result"
        }
      ],
      "source": [
        "# 나무 찍기\n",
        "# 나무 1번 찍는다.\n",
        "# 나무 2번 찍는다.\n",
        "# 나무 3번 찍는다.\n",
        "# ..\n",
        "# 나무를 100번 찍는다.\n",
        "# 나무가 넘어간다. \n",
        "\n",
        "# 범인의 자백을 받는다. \n",
        "# 너딱 열대만 맞자\n",
        "# 1대 \n",
        "# 2대\n",
        "...\n",
        "# 10대\n",
        "# 아 그만 \n"
      ]
    },
    {
      "cell_type": "markdown",
      "metadata": {
        "id": "ud6ZVyq4asSh"
      },
      "source": [
        "```\n",
        "for <target> in <object seq>:\n",
        "    <수행할 문장1>\n",
        "    <수행할 문장2>\n",
        "else:\n",
        "    <수행할 문장3>\n",
        "```"
      ]
    },
    {
      "cell_type": "code",
      "execution_count": null,
      "metadata": {
        "id": "4npl9R9basSh",
        "outputId": "2c6efaa1-d825-4976-d256-36336ca7ef67"
      },
      "outputs": [
        {
          "name": "stdout",
          "output_type": "stream",
          "text": [
            "1\n",
            "===끝===\n",
            "3\n",
            "===끝===\n",
            "5\n",
            "===끝===\n",
            "7\n",
            "===끝===\n"
          ]
        }
      ],
      "source": [
        "for i in [1,3,5,7]:\n",
        "    print(i)\n",
        "    print(\"===끝===\")"
      ]
    },
    {
      "cell_type": "code",
      "execution_count": null,
      "metadata": {
        "id": "cBwexbiEasSh",
        "outputId": "9504b1e9-0463-49d7-cd9d-054f6178e059"
      },
      "outputs": [
        {
          "data": {
            "text/plain": [
              "True"
            ]
          },
          "execution_count": 169,
          "metadata": {},
          "output_type": "execute_result"
        }
      ],
      "source": [
        "3 in [1,3,5,7]"
      ]
    },
    {
      "cell_type": "code",
      "execution_count": null,
      "metadata": {
        "id": "5-bSuMToasSi",
        "outputId": "d53358f1-b39a-4c2c-90f6-f8ea48547e0f"
      },
      "outputs": [
        {
          "name": "stdout",
          "output_type": "stream",
          "text": [
            "1\n",
            "===끝===\n",
            "3\n",
            "===끝===\n",
            "5\n",
            "===끝===\n",
            "7\n",
            "===끝===\n"
          ]
        }
      ],
      "source": [
        "for 아이 in [1,3,5,7]:\n",
        "    print(아이)\n",
        "    print(\"===끝===\")"
      ]
    },
    {
      "cell_type": "code",
      "execution_count": null,
      "metadata": {
        "id": "492Fd_7jasSi",
        "outputId": "c5355ab5-d8ca-4691-d721-35ac4e57230c"
      },
      "outputs": [
        {
          "name": "stdout",
          "output_type": "stream",
          "text": [
            "hello world\n",
            "===끝===\n",
            "hello world\n",
            "===끝===\n",
            "hello world\n",
            "===끝===\n",
            "hello world\n",
            "===끝===\n"
          ]
        }
      ],
      "source": [
        "for 아이 in [1,3,5,7]:\n",
        "    print(\"hello world\")\n",
        "    print(\"===끝===\")"
      ]
    },
    {
      "cell_type": "code",
      "execution_count": null,
      "metadata": {
        "id": "8YGg3gf6asSj",
        "outputId": "636e149a-cbde-4c79-b30a-dcefb08d26e1"
      },
      "outputs": [
        {
          "name": "stdout",
          "output_type": "stream",
          "text": [
            "hello world\n",
            "===끝===\n",
            "hello world\n",
            "===끝===\n",
            "hello world\n",
            "===끝===\n",
            "hello world\n",
            "===끝===\n"
          ]
        }
      ],
      "source": [
        "for j in [\"소\",\"양\",\"돼지\",\"닭\"]:\n",
        "    print(\"hello world\")\n",
        "    print(\"===끝===\")"
      ]
    },
    {
      "cell_type": "code",
      "execution_count": null,
      "metadata": {
        "id": "xL5Nvl2uasSj",
        "outputId": "d2c82433-a76e-4ad0-a95d-abce41bbb69d"
      },
      "outputs": [
        {
          "name": "stdout",
          "output_type": "stream",
          "text": [
            "오늘은 소고기 먹는날\n",
            "===끝===\n",
            "오늘은 양고기 먹는날\n",
            "===끝===\n",
            "오늘은 돼지고기 먹는날\n",
            "===끝===\n",
            "오늘은 닭고기 먹는날\n",
            "===끝===\n"
          ]
        }
      ],
      "source": [
        "for for_val in [\"소\",\"양\",\"돼지\",\"닭\"]:\n",
        "    print(f\"오늘은 {for_val}고기 먹는날\")\n",
        "    print(\"===끝===\")"
      ]
    },
    {
      "cell_type": "code",
      "execution_count": null,
      "metadata": {
        "id": "KlzulCbbasSj",
        "outputId": "1976b259-beb4-4006-bbbe-ccc5d33dda1b"
      },
      "outputs": [
        {
          "name": "stdout",
          "output_type": "stream",
          "text": [
            "오늘은 소고기 먹는날\n",
            "===끝===\n",
            "오늘은 양고기 먹는날\n",
            "===끝===\n",
            "오늘은 돼고기 먹는날\n",
            "===끝===\n",
            "오늘은 지고기 먹는날\n",
            "===끝===\n"
          ]
        }
      ],
      "source": [
        "for for_val in \"소양돼지\":\n",
        "    print(f\"오늘은 {for_val}고기 먹는날\")\n",
        "    print(\"===끝===\")"
      ]
    },
    {
      "cell_type": "code",
      "execution_count": null,
      "metadata": {
        "id": "NxQj8fxfasSj",
        "outputId": "b9896dca-a772-46fb-a8ae-5cc0f7629d5a"
      },
      "outputs": [
        {
          "name": "stdout",
          "output_type": "stream",
          "text": [
            "(1, 2)\n",
            "(3, 4)\n",
            "(5, 6)\n"
          ]
        }
      ],
      "source": [
        "for_val_seq = [(1,2), (3,4), (5,6)]\n",
        "for i in for_val_seq:\n",
        "    print(i)"
      ]
    },
    {
      "cell_type": "code",
      "execution_count": null,
      "metadata": {
        "id": "Mpd_mF3KasSk",
        "outputId": "322906fc-a343-486e-9193-308325e25399"
      },
      "outputs": [
        {
          "name": "stdout",
          "output_type": "stream",
          "text": [
            "i : 1\n",
            "j : 2\n",
            "========\n",
            "i : 3\n",
            "j : 4\n",
            "========\n",
            "i : 5\n",
            "j : 6\n",
            "========\n"
          ]
        }
      ],
      "source": [
        "for_val_seq = [(1,2), (3,4), (5,6)]\n",
        "for i,j in for_val_seq:\n",
        "    print(f\"i : {i}\")\n",
        "    print(f\"j : {j}\")\n",
        "    print(\"========\")"
      ]
    },
    {
      "cell_type": "code",
      "execution_count": null,
      "metadata": {
        "id": "zrb3i2I_asSk",
        "outputId": "cb458902-7f58-4340-e3a8-456ac71ee440"
      },
      "outputs": [
        {
          "name": "stdout",
          "output_type": "stream",
          "text": [
            "i : 1\n",
            "k : [1.5, 1.7]\n",
            "j : 2\n",
            "========\n",
            "i : 3\n",
            "k : [3.5, 3.7]\n",
            "j : 4\n",
            "========\n",
            "i : 5\n",
            "k : [5.5, 5.7]\n",
            "j : 6\n",
            "========\n"
          ]
        }
      ],
      "source": [
        "for_val_seq = [(1,1.5,1.7,2), (3,3.5,3.7,4), (5,5.5,5.7,6)]\n",
        "for i,*k,j in for_val_seq:\n",
        "    print(f\"i : {i}\")\n",
        "    print(f\"k : {k}\")\n",
        "    print(f\"j : {j}\")\n",
        "    print(\"========\")"
      ]
    },
    {
      "cell_type": "code",
      "execution_count": null,
      "metadata": {
        "id": "Bwcswk3VasSk",
        "outputId": "e09c175a-a2a5-4eae-8499-e98bad9e0bdb"
      },
      "outputs": [
        {
          "data": {
            "text/plain": [
              "range(0, 10)"
            ]
          },
          "execution_count": 178,
          "metadata": {},
          "output_type": "execute_result"
        }
      ],
      "source": [
        "# range() 내장 함수\n",
        "range(10)"
      ]
    },
    {
      "cell_type": "code",
      "execution_count": null,
      "metadata": {
        "id": "B9zdiHaGasSk",
        "outputId": "0b30a0dc-5c64-4e78-e5ad-a7a1813df63a"
      },
      "outputs": [
        {
          "data": {
            "text/plain": [
              "range"
            ]
          },
          "execution_count": 179,
          "metadata": {},
          "output_type": "execute_result"
        }
      ],
      "source": [
        "type(range(10))"
      ]
    },
    {
      "cell_type": "code",
      "execution_count": null,
      "metadata": {
        "id": "y3Vff_IXasSl",
        "outputId": "f6ada6a0-f227-49d9-86af-8e0368b92818"
      },
      "outputs": [
        {
          "name": "stdout",
          "output_type": "stream",
          "text": [
            "0\n",
            "1\n",
            "2\n",
            "3\n",
            "4\n",
            "5\n",
            "6\n",
            "7\n",
            "8\n",
            "9\n"
          ]
        }
      ],
      "source": [
        "for i in range(10):\n",
        "    print(i)"
      ]
    },
    {
      "cell_type": "code",
      "execution_count": null,
      "metadata": {
        "id": "YaVK4eIgasSl",
        "outputId": "851843d8-1b71-4482-a8cf-440b66662c64"
      },
      "outputs": [
        {
          "name": "stdout",
          "output_type": "stream",
          "text": [
            "hello world\n",
            "hello world\n",
            "hello world\n",
            "hello world\n",
            "hello world\n",
            "hello world\n",
            "hello world\n",
            "hello world\n",
            "hello world\n",
            "hello world\n"
          ]
        }
      ],
      "source": [
        "for i in range(10):\n",
        "    print(\"hello world\")"
      ]
    },
    {
      "cell_type": "code",
      "execution_count": null,
      "metadata": {
        "id": "cw1tMhAnasSl",
        "outputId": "72a693f5-85b1-4ac1-874f-f305410de97b"
      },
      "outputs": [
        {
          "name": "stdout",
          "output_type": "stream",
          "text": [
            "5\n",
            "6\n",
            "7\n",
            "8\n",
            "9\n"
          ]
        }
      ],
      "source": [
        "# https://docs.python.org/3/library/functions.html#func-range\n",
        "for i in range(5, 10):\n",
        "    print(i)"
      ]
    },
    {
      "cell_type": "code",
      "execution_count": null,
      "metadata": {
        "id": "YEbELnG9asSl",
        "outputId": "a9b52a31-6f7b-4f69-d54a-4333220121e7"
      },
      "outputs": [
        {
          "name": "stdout",
          "output_type": "stream",
          "text": [
            "5\n",
            "7\n",
            "9\n"
          ]
        }
      ],
      "source": [
        "for i in range(5, 10, 2):\n",
        "    print(i)"
      ]
    },
    {
      "cell_type": "code",
      "execution_count": null,
      "metadata": {
        "id": "q4K-bVmCasSm",
        "outputId": "6a8ee447-52c5-4f01-9b9c-6262c5dac12e"
      },
      "outputs": [
        {
          "name": "stdout",
          "output_type": "stream",
          "text": [
            "10\n",
            "9\n",
            "8\n",
            "7\n",
            "6\n"
          ]
        }
      ],
      "source": [
        "for i in range(10, 5, -1):\n",
        "    print(i)"
      ]
    },
    {
      "cell_type": "code",
      "execution_count": null,
      "metadata": {
        "id": "HEHDq3F5asSm",
        "outputId": "fc57a6c0-ae88-4ed0-faa8-34bff352fc63"
      },
      "outputs": [
        {
          "name": "stdout",
          "output_type": "stream",
          "text": [
            "1번 학생 90점으로 합격\n",
            "2번 학생 불합격 입니다. \n",
            "3번 학생 67점으로 합격\n",
            "4번 학생 불합격 입니다. \n",
            "5번 학생 80점으로 합격\n"
          ]
        }
      ],
      "source": [
        "# 예)\n",
        "# ‒ 총 5명의 학생이 시험을 보았는데 시험점수가 60점이 넘으면 합격이고 그렇지않으면\n",
        "# 불합격이다. 합격인지 불합격인지에 대한 결과를 보여줘라.\n",
        "marks = [90, 25, 67, 45, 80]\n",
        "numbers = 0\n",
        "for score in marks:\n",
        "    numbers = numbers + 1\n",
        "    if score >= 60:\n",
        "        print(f\"{numbers}번 학생 {score}점으로 합격\")\n",
        "    else:\n",
        "        print(f\"{numbers}번 학생 불합격 입니다. \")"
      ]
    },
    {
      "cell_type": "code",
      "execution_count": null,
      "metadata": {
        "id": "guJE7K9dasSm",
        "outputId": "8e276736-e901-47ea-bb61-d839935b38a5"
      },
      "outputs": [
        {
          "name": "stdout",
          "output_type": "stream",
          "text": [
            "2\n"
          ]
        }
      ],
      "source": [
        "# 재할당\n",
        "numbers = 0 # 초기값 init \n",
        "numbers = numbers + 1 #numbers 를 재할당 한다. \n",
        "numbers += 1 # numbers = numbers + 1 와 같다. \n",
        "# numbers = + 1\n",
        "print(numbers)"
      ]
    },
    {
      "cell_type": "code",
      "execution_count": null,
      "metadata": {
        "id": "CnRS7fMcasSn"
      },
      "outputs": [],
      "source": [
        "numbers = + 1"
      ]
    },
    {
      "cell_type": "code",
      "execution_count": null,
      "metadata": {
        "id": "SIXahEygasSn",
        "outputId": "d869c7a5-c820-4ffa-9239-e17b2ff93d0c"
      },
      "outputs": [
        {
          "data": {
            "text/plain": [
              "1"
            ]
          },
          "execution_count": 188,
          "metadata": {},
          "output_type": "execute_result"
        }
      ],
      "source": [
        "numbers"
      ]
    },
    {
      "cell_type": "code",
      "execution_count": null,
      "metadata": {
        "id": "NHpzFCcTasSn"
      },
      "outputs": [],
      "source": [
        "numbers = 0\n",
        "# numbers + 1 = numbers # 동작하지 않는다.  \n"
      ]
    },
    {
      "cell_type": "code",
      "execution_count": null,
      "metadata": {
        "id": "b1PJHP_YasSn",
        "outputId": "cee9a474-b183-4e35-f431-c896610d4fff"
      },
      "outputs": [
        {
          "name": "stdout",
          "output_type": "stream",
          "text": [
            "1\n",
            "2\n",
            "3\n",
            "4\n",
            "5\n",
            "6\n",
            "7\n",
            "8\n",
            "9\n",
            "10\n"
          ]
        }
      ],
      "source": [
        "a = 0\n",
        "for i in range(10):\n",
        "    a += 1\n",
        "    print(a)"
      ]
    },
    {
      "cell_type": "code",
      "execution_count": null,
      "metadata": {
        "id": "iZCNfE5masSo",
        "outputId": "d85d1d26-bbb1-4ce1-832f-d17045e1a2d9"
      },
      "outputs": [
        {
          "name": "stdout",
          "output_type": "stream",
          "text": [
            "['레드벨벳', '트와이스', '블랙핑크', '르세라핌']\n",
            "140414633569856\n",
            "['레드벨벳', '트와이스', '블랙핑크', '르세라핌', '아이브']\n",
            "140414633569856\n",
            "['레드벨벳', '트와이스', '블랙핑크', '르세라핌', '아이브', '아이들']\n",
            "140414633569856\n",
            "['레드벨벳', '트와이스', '블랙핑크', '르세라핌', '아이브', '아이들', '뉴진스']\n",
            "140414633569856\n"
          ]
        }
      ],
      "source": [
        "# list 재할당 or 추가\n",
        "list_0 = [\"레드벨벳\", \"트와이스\", \"블랙핑크\"]\n",
        "list_1 = [\"르세라핌\", \"아이브\", \"아이들\", \"뉴진스\"]\n",
        "for i in list_1:\n",
        "    list_0 += [i]\n",
        "    print(list_0)\n",
        "    print(id(list_0))"
      ]
    },
    {
      "cell_type": "code",
      "execution_count": null,
      "metadata": {
        "id": "WHCz9xzKasSo",
        "outputId": "36f117f5-39c5-4ce9-dd61-ac07ea202965"
      },
      "outputs": [
        {
          "name": "stdout",
          "output_type": "stream",
          "text": [
            "['레드벨벳', '트와이스', '블랙핑크', '르세라핌']\n",
            "140414629718976\n",
            "['레드벨벳', '트와이스', '블랙핑크', '르세라핌', '아이브']\n",
            "140414629718976\n",
            "['레드벨벳', '트와이스', '블랙핑크', '르세라핌', '아이브', '아이들']\n",
            "140414629718976\n",
            "['레드벨벳', '트와이스', '블랙핑크', '르세라핌', '아이브', '아이들', '뉴진스']\n",
            "140414629718976\n"
          ]
        }
      ],
      "source": [
        "list_0 = [\"레드벨벳\", \"트와이스\", \"블랙핑크\"]\n",
        "list_1 = [\"르세라핌\", \"아이브\", \"아이들\", \"뉴진스\"]\n",
        "for i in list_1:\n",
        "    list_0.append(i)\n",
        "    print(list_0)\n",
        "    print(id(list_0))"
      ]
    },
    {
      "cell_type": "code",
      "execution_count": null,
      "metadata": {
        "id": "fZbI1k3TasSp"
      },
      "outputs": [],
      "source": [
        "# 1시 35분에 시작 "
      ]
    },
    {
      "cell_type": "code",
      "execution_count": null,
      "metadata": {
        "id": "WHu68MmjasSp",
        "outputId": "d63b9aad-afbd-4d3e-c622-801f3a8b96cc"
      },
      "outputs": [
        {
          "name": "stdout",
          "output_type": "stream",
          "text": [
            "1번 학생 합격 입니다. \n",
            "3번 학생 합격 입니다. \n",
            "5번 학생 합격 입니다. \n"
          ]
        }
      ],
      "source": [
        "marks = [90, 25, 67, 45, 80]\n",
        "numbers = 0\n",
        "for score in marks:\n",
        "    numbers = numbers + 1\n",
        "    if score <= 60:\n",
        "        continue\n",
        "        # pass\n",
        "    print(f\"{numbers}번 학생 합격 입니다. \")"
      ]
    },
    {
      "cell_type": "code",
      "execution_count": null,
      "metadata": {
        "id": "NxH5H7NvasSp",
        "outputId": "40cf8acc-1c15-4069-dfab-7feea2c99026"
      },
      "outputs": [
        {
          "name": "stdout",
          "output_type": "stream",
          "text": [
            "1번 학생 합격 입니다. \n",
            "3번 학생 합격 입니다. \n",
            "5번 학생 합격 입니다. \n"
          ]
        }
      ],
      "source": [
        "marks = [90, 25, 67, 45, 80]\n",
        "numbers = 0\n",
        "for score in marks:\n",
        "    numbers = numbers + 1\n",
        "    if score <= 60:\n",
        "        continue\n",
        "        # pass\n",
        "    print(f\"{numbers}번 학생 합격 입니다. \")\n"
      ]
    },
    {
      "cell_type": "code",
      "execution_count": null,
      "metadata": {
        "id": "nsyYjMG6asSq",
        "outputId": "dd43d286-0f0e-415e-fad5-3009bdc97123"
      },
      "outputs": [
        {
          "name": "stdout",
          "output_type": "stream",
          "text": [
            "1번 학생 합격 입니다. \n",
            "3번 학생 합격 입니다. \n",
            "5번 학생 합격 입니다. \n"
          ]
        }
      ],
      "source": [
        "for i in range(len(marks)):\n",
        "    if marks[i] < 60:\n",
        "        continue\n",
        "    print(f\"{i+1}번 학생 합격 입니다. \")"
      ]
    },
    {
      "cell_type": "code",
      "execution_count": null,
      "metadata": {
        "id": "nCrA5SPuasSq"
      },
      "outputs": [],
      "source": [
        "# 예\n",
        "# 구구단 계산기 \n",
        "# 몇단을 계산 하시겠습니까? <숫자>\n",
        "# 2 x 1 = 2\n",
        "# 2 x 2 = 4\n",
        "# ...\n",
        "# 2 x 9 = 18 "
      ]
    },
    {
      "cell_type": "code",
      "execution_count": null,
      "metadata": {
        "id": "351zcGERasSq",
        "outputId": "7083053c-10ec-43a5-dc66-df5140ca98a4"
      },
      "outputs": [
        {
          "name": "stdout",
          "output_type": "stream",
          "text": [
            "2 x 1 = 2\n",
            "2 x 2 = 4\n",
            "2 x 3 = 6\n",
            "2 x 4 = 8\n",
            "2 x 5 = 10\n",
            "2 x 6 = 12\n",
            "2 x 7 = 14\n",
            "2 x 8 = 16\n",
            "2 x 9 = 18\n"
          ]
        }
      ],
      "source": [
        "num = int(input(\"몇단을 계산 하실 건가요? \"))\n",
        "for i in range(1, 10):\n",
        "    res = num * i\n",
        "    print(f\"{num} x {i} = {res}\")"
      ]
    },
    {
      "cell_type": "code",
      "execution_count": null,
      "metadata": {
        "id": "Y4ob3U2easSq",
        "outputId": "15437d3b-1f8d-49f8-c6b9-712014aa4539"
      },
      "outputs": [
        {
          "name": "stdout",
          "output_type": "stream",
          "text": [
            "1\n"
          ]
        }
      ],
      "source": [
        "# for 문을 이용해서 1부터 n까지의 합을 구할수 있도록 작성해 보세요\n",
        "# > 1부터 어디까지 더하실 겁니까? 10\n",
        "# > 55\n",
        "\n",
        "num = int(input(\"부터 어디까지 더하실 겁니까? \"))\n",
        "acc = 0\n",
        "for i in range(1, num + 1):\n",
        "    acc += i \n",
        "print(acc)"
      ]
    },
    {
      "cell_type": "code",
      "execution_count": null,
      "metadata": {
        "id": "LXaED3rYasSr",
        "outputId": "69ab5734-2837-451f-cf81-7bc77e809155"
      },
      "outputs": [
        {
          "name": "stdout",
          "output_type": "stream",
          "text": [
            "1\n"
          ]
        }
      ],
      "source": [
        "# 숫자 n을 입력 했을때 k 번 곱하는 반복문을 작성하세요 2^10 = 1024\n",
        "# 숫자 n을 입력 하세요.\n",
        "# 숫자 k를 입력 하세요.\n",
        "\n",
        "num_1 = int(input(\"숫자 n을 입력 하세요 \"))\n",
        "num_2 = int(input(\"숫자 k를 입력 하세요 \"))\n",
        "acc = 1\n",
        "for i in range(num_2):\n",
        "    acc *= num_1\n",
        "\n",
        "print(acc)\n",
        "\n",
        "\n",
        "\n",
        "# 2\n",
        "# 10\n",
        "\n",
        "# 1*2\n",
        "# 1*2*2\n",
        "# 1*2*2*2\n",
        "# ...\n",
        "# 1*2*2*2*2*2*2*2*...*2"
      ]
    },
    {
      "cell_type": "code",
      "execution_count": null,
      "metadata": {
        "id": "oatjX9FAasSr"
      },
      "outputs": [],
      "source": [
        "# for & zip\n",
        "list_name = [\"오민엽\", \"김도훈\", \"손준현\", \"양호영\"]\n",
        "list_math = [11, 23, 94, 29]\n",
        "list_eng = [22, 32, 11, 23]"
      ]
    },
    {
      "cell_type": "code",
      "execution_count": null,
      "metadata": {
        "id": "kfQnu5znasSr",
        "outputId": "0434399c-ee17-407f-b338-c9b8d202d4b8"
      },
      "outputs": [
        {
          "name": "stdout",
          "output_type": "stream",
          "text": [
            "이름 : 오민엽\n",
            "수학점수 : 11\n",
            "영어점수 : 22\n",
            "이름 : 김도훈\n",
            "수학점수 : 23\n",
            "영어점수 : 32\n",
            "이름 : 손준현\n",
            "수학점수 : 94\n",
            "영어점수 : 11\n",
            "이름 : 양호영\n",
            "수학점수 : 29\n",
            "영어점수 : 23\n"
          ]
        }
      ],
      "source": [
        "for i,j,k in zip(list_name, list_math, list_eng):\n",
        "    print(f\"이름 : {i}\")\n",
        "    print(f\"수학점수 : {j}\")\n",
        "    print(f\"영어점수 : {k}\")"
      ]
    },
    {
      "cell_type": "code",
      "execution_count": null,
      "metadata": {
        "id": "LM-hVnOFasSr"
      },
      "outputs": [],
      "source": []
    },
    {
      "cell_type": "code",
      "execution_count": null,
      "metadata": {
        "id": "cw5-Sd0DasSr",
        "outputId": "e54d1502-bf1d-472c-b838-00249fb5a46f"
      },
      "outputs": [
        {
          "name": "stdout",
          "output_type": "stream",
          "text": [
            "0번째 이름 : 오민엽\n",
            "1번째 이름 : 김도훈\n",
            "2번째 이름 : 손준현\n",
            "3번째 이름 : 양호영\n"
          ]
        }
      ],
      "source": [
        "# enumerate \n",
        "# enumerate() : list의 index와 함께 짝지어 주는 함수\n",
        "\n",
        "for j, i in enumerate(list_name):\n",
        "    print(f\"{j}번째 이름 : {i}\")\n"
      ]
    },
    {
      "cell_type": "code",
      "execution_count": null,
      "metadata": {
        "id": "d98QREU8asSr",
        "outputId": "5a786ef3-8fb4-45b8-9d83-32c7446192ae"
      },
      "outputs": [
        {
          "name": "stdout",
          "output_type": "stream",
          "text": [
            "0번째 이름 : 오민엽\n",
            "1번째 이름 : 김도훈\n",
            "2번째 이름 : 손준현\n",
            "3번째 이름 : 양호영\n"
          ]
        }
      ],
      "source": [
        "for j, i in zip(range(len(list_name)), list_name):\n",
        "    print(f\"{j}번째 이름 : {i}\")"
      ]
    },
    {
      "cell_type": "code",
      "execution_count": null,
      "metadata": {
        "id": "wftAg6DOasSs"
      },
      "outputs": [],
      "source": [
        "# list_comprehension\n",
        "# -  list 내부에 조건식을 넣을수 있다.\n",
        "# [<결과> for i in <list>]\n",
        "# [<결과> for i in <list> if <condition>]"
      ]
    },
    {
      "cell_type": "code",
      "execution_count": null,
      "metadata": {
        "id": "n0YqIvGVasSs"
      },
      "outputs": [],
      "source": [
        "list_2 = [i for i in range(1, 1000000, 2)]"
      ]
    },
    {
      "cell_type": "code",
      "execution_count": null,
      "metadata": {
        "id": "jWOIBWRQasSs"
      },
      "outputs": [],
      "source": [
        "list_3 = [i for i in range(1, 1000000, 2) if i%3 == 0]"
      ]
    },
    {
      "cell_type": "code",
      "execution_count": null,
      "metadata": {
        "id": "lU4TtXZlasSs"
      },
      "outputs": [],
      "source": [
        "# list_3"
      ]
    },
    {
      "cell_type": "code",
      "execution_count": null,
      "metadata": {
        "id": "pdJ06WopasSs",
        "outputId": "cdeb28ee-ad89-4a76-ee87-f5828c213ee8"
      },
      "outputs": [
        {
          "name": "stdout",
          "output_type": "stream",
          "text": [
            "i : 0\n",
            "j : 10\n",
            "j : 11\n",
            "j : 12\n",
            "i : 1\n",
            "j : 10\n",
            "j : 11\n",
            "j : 12\n",
            "i : 2\n",
            "j : 10\n",
            "j : 11\n",
            "j : 12\n",
            "i : 3\n",
            "j : 10\n",
            "j : 11\n",
            "j : 12\n",
            "i : 4\n",
            "j : 10\n",
            "j : 11\n",
            "j : 12\n"
          ]
        }
      ],
      "source": [
        "# 2시 40분에 시작하겠습니다.\n",
        "# 반복문 중첩\n",
        "for i in range(5):\n",
        "    print(f\"i : {i}\")\n",
        "    for j in range(10, 13):\n",
        "        print(f\"j : {j}\")"
      ]
    },
    {
      "cell_type": "markdown",
      "metadata": {
        "id": "a5S7oRhLasSs"
      },
      "source": [
        "# 1 단부터 9단까지 한번에 출력되도록 작성해보세요\n",
        "```\n",
        "=====1단======\n",
        "1x1 = 1\n",
        "1x2 = 2\n",
        "1x3 = 3\n",
        "1x4 = 4\n",
        "1x5 = 5\n",
        "1x6 = 6\n",
        "1x7 = 7\n",
        "1x8 = 8\n",
        "1x9 = 9\n",
        "=====2단======\n",
        "2x1 = 2\n",
        "2x2 = 4\n",
        "2x3 = 6\n",
        "2x4 = 8\n",
        "2x5 = 10\n",
        "2x6 = 12\n",
        "2x7 = 14\n",
        "2x8 = 16\n",
        "2x9 = 18\n",
        "...\n",
        "\n",
        "\n",
        "=====9단======\n",
        "9x1 = 2\n",
        "9x2 = 4\n",
        "9x3 = 6\n",
        "9x4 = 8\n",
        "9x5 = 10\n",
        "9x6 = 12\n",
        "9x7 = 14\n",
        "9x8 = 16\n",
        "9x9 = 18\n",
        "```"
      ]
    },
    {
      "cell_type": "code",
      "execution_count": null,
      "metadata": {
        "id": "TOwsto_VasSt",
        "outputId": "adbb37d0-e0ec-4362-ab5a-f7c22683f940"
      },
      "outputs": [
        {
          "name": "stdout",
          "output_type": "stream",
          "text": [
            "====1단 입니다.====\n",
            "1x1=1\n",
            "1x2=2\n",
            "1x3=3\n",
            "1x4=4\n",
            "1x5=5\n",
            "1x6=6\n",
            "1x7=7\n",
            "1x8=8\n",
            "1x9=9\n",
            "====2단 입니다.====\n",
            "2x1=1\n",
            "2x2=2\n",
            "2x3=3\n",
            "2x4=4\n",
            "2x5=5\n",
            "2x6=6\n",
            "2x7=7\n",
            "2x8=8\n",
            "2x9=9\n",
            "====3단 입니다.====\n",
            "3x1=1\n",
            "3x2=2\n",
            "3x3=3\n",
            "3x4=4\n",
            "3x5=5\n",
            "3x6=6\n",
            "3x7=7\n",
            "3x8=8\n",
            "3x9=9\n",
            "====4단 입니다.====\n",
            "4x1=1\n",
            "4x2=2\n",
            "4x3=3\n",
            "4x4=4\n",
            "4x5=5\n",
            "4x6=6\n",
            "4x7=7\n",
            "4x8=8\n",
            "4x9=9\n",
            "====5단 입니다.====\n",
            "5x1=1\n",
            "5x2=2\n",
            "5x3=3\n",
            "5x4=4\n",
            "5x5=5\n",
            "5x6=6\n",
            "5x7=7\n",
            "5x8=8\n",
            "5x9=9\n",
            "====6단 입니다.====\n",
            "6x1=1\n",
            "6x2=2\n",
            "6x3=3\n",
            "6x4=4\n",
            "6x5=5\n",
            "6x6=6\n",
            "6x7=7\n",
            "6x8=8\n",
            "6x9=9\n",
            "====7단 입니다.====\n",
            "7x1=1\n",
            "7x2=2\n",
            "7x3=3\n",
            "7x4=4\n",
            "7x5=5\n",
            "7x6=6\n",
            "7x7=7\n",
            "7x8=8\n",
            "7x9=9\n",
            "====8단 입니다.====\n",
            "8x1=1\n",
            "8x2=2\n",
            "8x3=3\n",
            "8x4=4\n",
            "8x5=5\n",
            "8x6=6\n",
            "8x7=7\n",
            "8x8=8\n",
            "8x9=9\n",
            "====9단 입니다.====\n",
            "9x1=1\n",
            "9x2=2\n",
            "9x3=3\n",
            "9x4=4\n",
            "9x5=5\n",
            "9x6=6\n",
            "9x7=7\n",
            "9x8=8\n",
            "9x9=9\n"
          ]
        }
      ],
      "source": [
        "for j in range(1, 10):\n",
        "    print(f\"===={j}단 입니다.====\")\n",
        "    for i in range(1, 10 ):\n",
        "        print(f\"{j}x{i}={ 1*i }\")"
      ]
    },
    {
      "cell_type": "markdown",
      "metadata": {
        "id": "X8Zx69NOasSt"
      },
      "source": [
        "# 반복문을 이용해서\n",
        "- 다음과 같이 출력되게 코딩해 보세요\n",
        "- ★ : ㅁ 한자 \n",
        "```\n",
        "*****\n",
        "★★★★★\n",
        "```"
      ]
    },
    {
      "cell_type": "markdown",
      "metadata": {
        "id": "ydJlw3G9asSt"
      },
      "source": [
        "# 이스케이프 문자\n",
        "- \\n : 개행\n",
        "- \\t : 4칸 공백\n",
        "\n",
        "- __참고__ : print(end=) 를 찾아보세요\n",
        "\n",
        "- 다음과 같이 출력되도록 작성해 보세요 \n",
        "```\n",
        "★★★★★\n",
        "★★★★★\n",
        "★★★★★\n",
        "★★★★★\n",
        "```"
      ]
    },
    {
      "cell_type": "markdown",
      "metadata": {
        "id": "rKXnAPGTasSt"
      },
      "source": [
        "```\n",
        "★\n",
        "★★\n",
        "★★★\n",
        "★★★★\n",
        "★★★★★\n",
        "```\n",
        "\n",
        "```\n",
        "★★★★★\n",
        "★★★★\n",
        "★★★\n",
        "★★\n",
        "★\n",
        "```\n",
        "\n",
        "```\n",
        "☆☆☆☆★\n",
        "☆☆☆★★\n",
        "☆☆★★★\n",
        "☆★★★★\n",
        "★★★★★\n",
        "```\n",
        "\n",
        "```\n",
        "    ★\n",
        "   ★★\n",
        "  ★★★\n",
        " ★★★★\n",
        "★★★★★\n",
        "```\n"
      ]
    },
    {
      "cell_type": "markdown",
      "metadata": {
        "id": "3hD4pvhpasSt"
      },
      "source": []
    },
    {
      "cell_type": "code",
      "execution_count": null,
      "metadata": {
        "id": "FeIswgQiasSt",
        "outputId": "22a69a10-1e74-43c3-b988-51f1aca78de4"
      },
      "outputs": [
        {
          "data": {
            "text/plain": [
              "'★★★★★'"
            ]
          },
          "execution_count": 211,
          "metadata": {},
          "output_type": "execute_result"
        }
      ],
      "source": [
        "\"★\" * 5"
      ]
    },
    {
      "cell_type": "code",
      "execution_count": null,
      "metadata": {
        "id": "09nU44r5asSu",
        "outputId": "126f027a-155f-453f-c0be-532fe0fe877a"
      },
      "outputs": [
        {
          "name": "stdout",
          "output_type": "stream",
          "text": [
            "★★★★★"
          ]
        }
      ],
      "source": [
        "for i in range(0,5):\n",
        "    print(\"★\", end = \"\")"
      ]
    },
    {
      "cell_type": "code",
      "execution_count": null,
      "metadata": {
        "id": "GU4CAoz6asSu",
        "outputId": "d5a4cc86-8e46-4e23-fca6-8972e512c12f"
      },
      "outputs": [
        {
          "name": "stdout",
          "output_type": "stream",
          "text": [
            "★★★★★\n",
            "★★★★★\n",
            "★★★★★\n",
            "★★★★★\n"
          ]
        }
      ],
      "source": [
        "for j in range(0,4):\n",
        "    for i in range(0,5):\n",
        "        print(\"★\", end = \"\")\n",
        "    print(\"\")"
      ]
    },
    {
      "cell_type": "code",
      "execution_count": null,
      "metadata": {
        "id": "CYpC82DiasSu",
        "outputId": "13e5df60-3b64-4e83-fd67-e5d5ed4a1474"
      },
      "outputs": [
        {
          "name": "stdout",
          "output_type": "stream",
          "text": [
            "\n",
            "★★★★★\n",
            "★★★★★\n",
            "★★★★★\n",
            "★★★★★"
          ]
        }
      ],
      "source": [
        "for j in range(0,4):\n",
        "    print(\"\")\n",
        "    for i in range(0,5):\n",
        "        print(\"★\", end = \"\")"
      ]
    },
    {
      "cell_type": "code",
      "execution_count": null,
      "metadata": {
        "id": "bVxKXfYNasSu",
        "outputId": "e52b8e94-03ec-402a-8599-28b72dd00b80"
      },
      "outputs": [
        {
          "name": "stdout",
          "output_type": "stream",
          "text": [
            "\n",
            "★\n",
            "★★\n",
            "★★★\n",
            "★★★★\n"
          ]
        }
      ],
      "source": [
        "for j in range(0, 5):\n",
        "    for i in range(0,j):\n",
        "        print(\"★\", end = \"\")\n",
        "    print(\"\")"
      ]
    },
    {
      "cell_type": "code",
      "execution_count": null,
      "metadata": {
        "id": "40aC6g5AasSu",
        "outputId": "52ad948c-e15c-48ea-f0e8-8c17627c9106"
      },
      "outputs": [
        {
          "name": "stdout",
          "output_type": "stream",
          "text": [
            "★★★★★\n",
            "★★★★\n",
            "★★★\n",
            "★★\n",
            "★\n"
          ]
        }
      ],
      "source": [
        "for j in range(0, 5):\n",
        "    for i in range(5, j, -1):\n",
        "        print(\"★\", end = \"\")\n",
        "    print(\"\")"
      ]
    },
    {
      "cell_type": "code",
      "execution_count": null,
      "metadata": {
        "id": "krkSHMuiasSv",
        "outputId": "7210e2cd-e45e-4a20-81bd-34d4a97f068b"
      },
      "outputs": [
        {
          "name": "stdout",
          "output_type": "stream",
          "text": [
            "★★★★★\n",
            "★★★★\n",
            "★★★\n",
            "★★\n",
            "★\n"
          ]
        }
      ],
      "source": [
        "for j in range(0, 5):\n",
        "    for i in range(0, 5-j, 1):\n",
        "        print(\"★\", end = \"\")\n",
        "    print(\"\")"
      ]
    },
    {
      "cell_type": "code",
      "execution_count": null,
      "metadata": {
        "id": "VO8Cb0UGasSv",
        "outputId": "643455a2-99a1-4351-9a9d-1e28b8726034"
      },
      "outputs": [
        {
          "name": "stdout",
          "output_type": "stream",
          "text": [
            "☆☆☆☆★\n",
            "☆☆☆★★\n",
            "☆☆★★★\n",
            "☆★★★★\n",
            "★★★★★\n"
          ]
        }
      ],
      "source": [
        "print(\"☆\"*4 + \"★\"*1)\n",
        "print(\"☆\"*3 + \"★\"*2)\n",
        "print(\"☆\"*2 + \"★\"*3)\n",
        "print(\"☆\"*1 + \"★\"*4)\n",
        "print(\"☆\"*0 + \"★\"*5)"
      ]
    },
    {
      "cell_type": "code",
      "execution_count": null,
      "metadata": {
        "id": "mfXBjfR9asSv",
        "outputId": "c72457bd-5069-4101-ef09-28f19345653e"
      },
      "outputs": [
        {
          "name": "stdout",
          "output_type": "stream",
          "text": [
            "★★★★★\n",
            "☆★★★★\n",
            "☆☆★★★\n",
            "☆☆☆★★\n",
            "☆☆☆☆★\n"
          ]
        }
      ],
      "source": [
        "for i in range(5):\n",
        "    print(\"☆\"*i + \"★\"*(5-i))"
      ]
    },
    {
      "cell_type": "code",
      "execution_count": null,
      "metadata": {
        "id": "Wl9X_NNHasSv",
        "outputId": "a78c2984-f6a8-4a96-f3e1-e00629ecba7e"
      },
      "outputs": [
        {
          "name": "stdout",
          "output_type": "stream",
          "text": [
            "☆☆☆★\n",
            "☆☆★★\n",
            "☆★★★\n",
            "★★★★\n"
          ]
        }
      ],
      "source": [
        "for i in range(1,5):\n",
        "    for j in range(4-i):\n",
        "        print(\"☆\", end=\"\")\n",
        "    for j in range(i):\n",
        "        print(\"★\", end=\"\")\n",
        "    print()"
      ]
    },
    {
      "cell_type": "code",
      "execution_count": null,
      "metadata": {
        "id": "-zwFWRg7asSv"
      },
      "outputs": [],
      "source": []
    }
  ],
  "metadata": {
    "colab": {
      "provenance": [],
      "include_colab_link": true
    },
    "kernelspec": {
      "display_name": "Python 3",
      "name": "python3"
    },
    "language_info": {
      "codemirror_mode": {
        "name": "ipython",
        "version": 3
      },
      "file_extension": ".py",
      "mimetype": "text/x-python",
      "name": "python",
      "nbconvert_exporter": "python",
      "pygments_lexer": "ipython3",
      "version": "3.10.11"
    }
  },
  "nbformat": 4,
  "nbformat_minor": 0
}