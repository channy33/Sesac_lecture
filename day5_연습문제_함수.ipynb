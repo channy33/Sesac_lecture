{
  "cells": [
    {
      "cell_type": "markdown",
      "metadata": {
        "id": "view-in-github",
        "colab_type": "text"
      },
      "source": [
        "<a href=\"https://colab.research.google.com/github/channy33/Sesac_lecture/blob/master/day5_%EC%97%B0%EC%8A%B5%EB%AC%B8%EC%A0%9C_%ED%95%A8%EC%88%98.ipynb\" target=\"_parent\"><img src=\"https://colab.research.google.com/assets/colab-badge.svg\" alt=\"Open In Colab\"/></a>"
      ]
    },
    {
      "cell_type": "markdown",
      "metadata": {
        "id": "Rtr24q24iJde"
      },
      "source": [
        "# 함수 연습문제"
      ]
    },
    {
      "cell_type": "code",
      "execution_count": null,
      "metadata": {
        "colab": {
          "base_uri": "https://localhost:8080/"
        },
        "id": "3J0xjRuHiOjW",
        "outputId": "7de43ad5-ed9e-44a0-d07a-367def48b922"
      },
      "outputs": [
        {
          "name": "stdout",
          "output_type": "stream",
          "text": [
            "Before: 10\n",
            "In Function: 20\n",
            "After: 10\n"
          ]
        }
      ],
      "source": [
        "# 1. 다음 코드의 실행 결과를 쓰시오.\n",
        "def test(t):\n",
        "    t = 20\n",
        "    print (\"In Function:\", t)\n",
        "    \n",
        "x = 10\n",
        "print (\"Before:\", x)\n",
        "test(x)\n",
        "print (\"After:\", x)"
      ]
    },
    {
      "cell_type": "code",
      "execution_count": null,
      "metadata": {
        "colab": {
          "base_uri": "https://localhost:8080/"
        },
        "id": "kYm4pPQliW79",
        "outputId": "098819ef-c687-4459-a4bf-a87d1bf3c937"
      },
      "outputs": [
        {
          "name": "stdout",
          "output_type": "stream",
          "text": [
            "None\n"
          ]
        }
      ],
      "source": [
        "# 2. 다음 코드의 실행 결과를 쓰시오.\n",
        "def sotring_function(list_value):\n",
        "    return list_value.sort()\n",
        "\n",
        "print(sotring_function([5,4,3,2,1]))"
      ]
    },
    {
      "cell_type": "code",
      "execution_count": null,
      "metadata": {
        "id": "Pn26dHEAvTgf"
      },
      "outputs": [],
      "source": [
        "list_value = [5,4,3,2,1]\n",
        "list_value.sort()"
      ]
    },
    {
      "cell_type": "code",
      "execution_count": null,
      "metadata": {
        "colab": {
          "base_uri": "https://localhost:8080/"
        },
        "id": "uKg1okFgvduX",
        "outputId": "c06cdb9b-f20b-45c2-b1a4-bb81e8420115"
      },
      "outputs": [
        {
          "data": {
            "text/plain": [
              "[1, 2, 3, 4, 5]"
            ]
          },
          "execution_count": 4,
          "metadata": {},
          "output_type": "execute_result"
        }
      ],
      "source": [
        "list_value"
      ]
    },
    {
      "cell_type": "code",
      "execution_count": null,
      "metadata": {
        "id": "RZoS7x_Piadr",
        "outputId": "0bb185ec-da5f-42eb-b36a-0ebe798e8262"
      },
      "outputs": [
        {
          "name": "stderr",
          "output_type": "stream",
          "text": [
            "<>:6: SyntaxWarning: \"is\" with a literal. Did you mean \"==\"?\n",
            "<>:6: SyntaxWarning: \"is\" with a literal. Did you mean \"==\"?\n",
            "/tmp/ipykernel_394/3414581244.py:6: SyntaxWarning: \"is\" with a literal. Did you mean \"==\"?\n",
            "  if number is 100:\n"
          ]
        }
      ],
      "source": [
        "# 3. 다음 코드의 실행 결과를 쓰시오.\n",
        "number = \"100\"\n",
        "def midterm(number):\n",
        "    result = \"\"\n",
        "    if number.isdigit() is True:\n",
        "        if number is 100:\n",
        "            if number/10 == 1:\n",
        "                result = True\n",
        "    else:\n",
        "        result = False\n",
        "\n",
        "    return result"
      ]
    },
    {
      "cell_type": "code",
      "execution_count": null,
      "metadata": {
        "colab": {
          "base_uri": "https://localhost:8080/"
        },
        "id": "hhtAQq0wwRaM",
        "outputId": "68a31b06-7e07-4bb1-ae96-aa3fc4d1ecd2"
      },
      "outputs": [
        {
          "data": {
            "text/plain": [
              "True"
            ]
          },
          "execution_count": 6,
          "metadata": {},
          "output_type": "execute_result"
        }
      ],
      "source": [
        "number.isdigit()"
      ]
    },
    {
      "cell_type": "code",
      "execution_count": null,
      "metadata": {
        "colab": {
          "base_uri": "https://localhost:8080/",
          "height": 35
        },
        "id": "wdy98sNuvmzX",
        "outputId": "f129599c-a265-4008-8ddd-41bf0d6a4855"
      },
      "outputs": [
        {
          "data": {
            "text/plain": [
              "''"
            ]
          },
          "execution_count": 7,
          "metadata": {},
          "output_type": "execute_result"
        }
      ],
      "source": [
        "midterm(number)"
      ]
    },
    {
      "cell_type": "code",
      "execution_count": null,
      "metadata": {
        "colab": {
          "base_uri": "https://localhost:8080/"
        },
        "id": "jkD4vBDpie6m",
        "outputId": "7da0a19c-7d43-4e09-df11-7837077d5097"
      },
      "outputs": [
        {
          "name": "stdout",
          "output_type": "stream",
          "text": [
            "None\n"
          ]
        }
      ],
      "source": [
        "# 4. 다음과 같이 코드를 작성했을 때, 실행 결과로 알맞은 것은?\n",
        "def is_yes(your_answer):\n",
        "    if your_answer.upper() == \"YES\" or your_answer.upper() == \"Y\":\n",
        "        result = your_answer.lower()\n",
        "# return 이 없어서 None 이 반환된다. \n",
        "\n",
        "print(is_yes(\"Yes\"))"
      ]
    },
    {
      "cell_type": "code",
      "execution_count": null,
      "metadata": {
        "colab": {
          "base_uri": "https://localhost:8080/"
        },
        "id": "6pKwkUMzwlVO",
        "outputId": "b06e489c-f1eb-447c-99a1-eb2f26caf757"
      },
      "outputs": [
        {
          "name": "stdout",
          "output_type": "stream",
          "text": [
            "yes\n"
          ]
        }
      ],
      "source": [
        "def is_yes(your_answer):\n",
        "    if your_answer.upper() == \"YES\" or your_answer.upper() == \"Y\":\n",
        "        result = your_answer.lower()\n",
        "    return result\n",
        "# return을 만들었더니 결과가 나온다. \n",
        "\n",
        "print(is_yes(\"Yes\"))"
      ]
    },
    {
      "cell_type": "code",
      "execution_count": null,
      "metadata": {
        "colab": {
          "base_uri": "https://localhost:8080/"
        },
        "id": "uvKQ0V3AihEG",
        "outputId": "f10ed417-a154-4375-c479-39eb415c66c9"
      },
      "outputs": [
        {
          "name": "stdout",
          "output_type": "stream",
          "text": [
            "False\n"
          ]
        }
      ],
      "source": [
        "# 5. 다음과 같이 코드를 작성했을 때, 실행 결과로 알맞은 것은?\n",
        "def add_and_mul(a, b, c):\n",
        "    return b + a * c + b\n",
        "\n",
        "print(add_and_mul(3, 4, 5) == 63) # 결과는 23이다. "
      ]
    },
    {
      "cell_type": "code",
      "execution_count": null,
      "metadata": {
        "colab": {
          "base_uri": "https://localhost:8080/"
        },
        "id": "ToBx-VwUijn4",
        "outputId": "8c45d1f5-72cd-48cc-d7aa-3f870307b73b"
      },
      "outputs": [
        {
          "name": "stdout",
          "output_type": "stream",
          "text": [
            "25\n",
            "(5, 6, 7)\n"
          ]
        }
      ],
      "source": [
        "# 6. 다음과 같이 코드를 작성했을 때, 실행 결과로 알맞은 것은?\n",
        "# def args_test_3(one, two, *args):\n",
        "#     print(one + two + sum(args))\n",
        "#     print(args)\n",
        "\n",
        "def args_test_3(one, two, *args, three):\n",
        "    print(one + two + sum(args))\n",
        "    print(args)\n",
        "\n",
        "# args_test_3(3, 4, 5, 6, three=7)\n",
        "args_test_3(3, 4, 5, 6, 7)"
      ]
    },
    {
      "cell_type": "code",
      "execution_count": null,
      "metadata": {
        "colab": {
          "base_uri": "https://localhost:8080/"
        },
        "id": "XaXoXzzPimrF",
        "outputId": "e2d7ab07-2834-4d9f-f1fa-2e1a242bf458"
      },
      "outputs": [
        {
          "name": "stdout",
          "output_type": "stream",
          "text": [
            "['green', 'blue']\n"
          ]
        }
      ],
      "source": [
        "# 7. 다음 코드의 실행 결과를 쓰시오.\n",
        "def rain(colors):\n",
        "    colors.append(\"purple\")\n",
        "    colors = [\"green\", \"blue\"]\n",
        "    return colors\n",
        "    \n",
        "rainbow = [\"red\", \"orange\"]\n",
        "print(rain(rainbow))"
      ]
    },
    {
      "cell_type": "code",
      "execution_count": null,
      "metadata": {
        "id": "dsrdG4xbmWui",
        "outputId": "252d50d8-da61-4cca-f077-ff31cad9c989"
      },
      "outputs": [
        {
          "data": {
            "text/plain": [
              "['red', 'orange', 'purple']"
            ]
          },
          "execution_count": 16,
          "metadata": {},
          "output_type": "execute_result"
        }
      ],
      "source": [
        "rainbow"
      ]
    },
    {
      "cell_type": "code",
      "execution_count": null,
      "metadata": {
        "id": "VGyaaIE5mWui",
        "outputId": "f9c019af-a212-4442-dab9-00e413624207"
      },
      "outputs": [
        {
          "ename": "SyntaxError",
          "evalue": "name 'rainbow' is assigned to before global declaration (2314423407.py, line 5)",
          "output_type": "error",
          "traceback": [
            "\u001b[0;36m  Cell \u001b[0;32mIn[32], line 5\u001b[0;36m\u001b[0m\n\u001b[0;31m    global rainbow\u001b[0m\n\u001b[0m    ^\u001b[0m\n\u001b[0;31mSyntaxError\u001b[0m\u001b[0;31m:\u001b[0m name 'rainbow' is assigned to before global declaration\n"
          ]
        }
      ],
      "source": [
        "# 7. 다음 코드의 실행 결과를 쓰시오.\n",
        "def rain(colors):\n",
        "    colors.append(\"purple\")\n",
        "    rainbow = [\"green\", \"blue\"]\n",
        "    global rainbow\n",
        "    return colors\n",
        "    \n",
        "rainbow = [\"red\", \"orange\"]\n",
        "print(rain(rainbow))"
      ]
    },
    {
      "cell_type": "code",
      "execution_count": null,
      "metadata": {
        "id": "QBgxQtNjmWui",
        "outputId": "f952ac60-9eb0-41d2-c07e-165d7db393b1"
      },
      "outputs": [
        {
          "data": {
            "text/plain": [
              "['green', 'blue']"
            ]
          },
          "execution_count": 19,
          "metadata": {},
          "output_type": "execute_result"
        }
      ],
      "source": [
        "rainbow"
      ]
    },
    {
      "cell_type": "code",
      "execution_count": null,
      "metadata": {
        "id": "x51phc-TmWuj"
      },
      "outputs": [],
      "source": []
    },
    {
      "cell_type": "code",
      "execution_count": null,
      "metadata": {
        "colab": {
          "base_uri": "https://localhost:8080/"
        },
        "id": "p07qn0Bcip0b",
        "outputId": "d0ca39cb-8f03-4b45-ef40-9fef8e19c2f4"
      },
      "outputs": [
        {
          "name": "stdout",
          "output_type": "stream",
          "text": [
            "8\n",
            "None\n"
          ]
        }
      ],
      "source": [
        "# 8. 다음 코드의 실행 결과를 쓰시오.\n",
        "def function(value):\n",
        "    print(value ** 3) # 함수가 동작하면서 발생하는 표준 출력\n",
        "    # return value**3\n",
        "\n",
        "print(function(2)) # 함수의 결과에 대한 표준 출력"
      ]
    },
    {
      "cell_type": "code",
      "execution_count": null,
      "metadata": {
        "id": "Z_K0yvWmmWuj"
      },
      "outputs": [],
      "source": [
        "fruit = \"appl\"\n",
        "# list(fruit) # 산산조각\n",
        "# [fruit] # 한개로 들어간다. "
      ]
    },
    {
      "cell_type": "code",
      "execution_count": null,
      "metadata": {
        "colab": {
          "base_uri": "https://localhost:8080/"
        },
        "id": "gdC2LJnpisIN",
        "outputId": "1e6e1262-6580-4989-eea2-a7bfb5580c19"
      },
      "outputs": [
        {
          "name": "stdout",
          "output_type": "stream",
          "text": [
            "appl\n"
          ]
        }
      ],
      "source": [
        "# 9. 다음 코드의 실행 결과를 쓰시오. \n",
        "def get_apple(fruit):\n",
        "    fruit = list(fruit)\n",
        "    fruit.append(\"e\")\n",
        "    fruit = [\"apple\"]\n",
        "    return fruit\n",
        "\n",
        "fruit = \"appl\"\n",
        "get_apple(fruit)\n",
        "print(fruit)"
      ]
    },
    {
      "cell_type": "code",
      "execution_count": null,
      "metadata": {
        "id": "GuqhXQ90mWuj",
        "outputId": "8ee3fc16-9cc1-44c7-952d-efab0df729c4"
      },
      "outputs": [
        {
          "data": {
            "text/plain": [
              "'apple'"
            ]
          },
          "execution_count": 28,
          "metadata": {},
          "output_type": "execute_result"
        }
      ],
      "source": [
        "fruit"
      ]
    },
    {
      "cell_type": "code",
      "execution_count": null,
      "metadata": {
        "id": "hdaB28nbmWuk"
      },
      "outputs": [],
      "source": []
    },
    {
      "cell_type": "code",
      "execution_count": null,
      "metadata": {
        "colab": {
          "base_uri": "https://localhost:8080/"
        },
        "id": "--NdhOOxiv7U",
        "outputId": "94f1b0a1-b024-478b-beb8-ee031d8772a1"
      },
      "outputs": [
        {
          "name": "stdout",
          "output_type": "stream",
          "text": [
            "I Love You543210\n"
          ]
        }
      ],
      "source": [
        "# 10. 다음과 같이 코드를 작성했을 때, 실행 결과로 알맞은 것은?\n",
        "def return_sentence(sentence, n):\n",
        "    sentence += str(n)\n",
        "    n -= 1\n",
        "    if n < 0:\n",
        "        return sentence\n",
        "    else:\n",
        "        return(return_sentence(sentence, n))\n",
        "\n",
        "sentence = \"I Love You\"\n",
        "print(return_sentence(sentence, 5))"
      ]
    },
    {
      "cell_type": "code",
      "execution_count": null,
      "metadata": {
        "colab": {
          "base_uri": "https://localhost:8080/"
        },
        "id": "2jbZ3o5oivHr",
        "outputId": "78fa4b1b-e3cf-4ab3-fb30-0604f2b3ae1a"
      },
      "outputs": [
        {
          "name": "stdout",
          "output_type": "stream",
          "text": [
            "['x']\n"
          ]
        }
      ],
      "source": [
        "# 11. 다음 코드의 실행 결과를 쓰시오. \n",
        "def test(x, y):\n",
        "    tmp = x\n",
        "    x = y\n",
        "    y = tmp\n",
        "    return y.append(x)\n",
        "    \n",
        "x = [\"y\"]\n",
        "y = [\"x\"]\n",
        "test(x, y)\n",
        "print(y)"
      ]
    },
    {
      "cell_type": "code",
      "execution_count": null,
      "metadata": {
        "id": "NMb1zAC5i0ss"
      },
      "outputs": [],
      "source": [
        "# 12. 다음 코드의 실행 결과를 쓰시오.\n",
        "def countdown(n):\n",
        "    if n %2 == 0:\n",
        "        print (\"Even\")\n",
        "    else:\n",
        "        print (\"Odd\")\n",
        "        countdown(n-1)\n",
        "countdown(3)"
      ]
    },
    {
      "cell_type": "code",
      "execution_count": null,
      "metadata": {
        "id": "fV99smb_zZiZ"
      },
      "outputs": [],
      "source": [
        "countdown(2)"
      ]
    },
    {
      "cell_type": "code",
      "execution_count": null,
      "metadata": {
        "colab": {
          "base_uri": "https://localhost:8080/"
        },
        "id": "qCrn4_g3i045",
        "outputId": "ef0a6714-0d71-4250-8aa5-0d33512ea2ce"
      },
      "outputs": [
        {
          "name": "stdout",
          "output_type": "stream",
          "text": [
            "120\n"
          ]
        }
      ],
      "source": [
        "# 13. 다음 코드를 실행하면 결과값으로 120이 나온다. 빈칸에 들어갈 알맞은 코드를 작성하시오.\n",
        "def factorial_calculator(n):\n",
        "    if n in (0, 1):\n",
        "        return 1\n",
        "    else:\n",
        "        return n * factorial_calculator(n-1)\n",
        "        \n",
        "print(factorial_calculator(5))"
      ]
    },
    {
      "cell_type": "code",
      "execution_count": null,
      "metadata": {
        "colab": {
          "base_uri": "https://localhost:8080/"
        },
        "id": "jTgZ_YzPi08w",
        "outputId": "f7e1c4af-7c51-419c-944b-86cddfa374da"
      },
      "outputs": [
        {
          "data": {
            "text/plain": [
              "15"
            ]
          },
          "execution_count": 38,
          "metadata": {},
          "output_type": "execute_result"
        }
      ],
      "source": [
        "# 14. 다음 코드의 실행 결과를 쓰시오. \n",
        "def calculrate_rectangle_area(rectangle_x,rectangle_y):\n",
        "    rectangle_x = 3\n",
        "    rectangle_y = 5\n",
        "    result = rectangle_x * rectangle_y\n",
        "    return result\n",
        "    \n",
        "rectangle_x = 2\n",
        "rectangle_y = 4\n",
        "calculrate_rectangle_area(rectangle_x, rectangle_y)"
      ]
    },
    {
      "cell_type": "code",
      "execution_count": null,
      "metadata": {
        "id": "z-Nq-DIYmWul",
        "outputId": "e4efd2ff-bba4-4be4-e0e5-180bf1407632"
      },
      "outputs": [
        {
          "data": {
            "text/plain": [
              "8"
            ]
          },
          "execution_count": 40,
          "metadata": {},
          "output_type": "execute_result"
        }
      ],
      "source": [
        "# 14. 다음 코드의 실행 결과를 쓰시오. \n",
        "def calculrate_rectangle_area(rectangle_x=3, rectangle_y=5): # 기본값으로 3,5 를 할당 해놓은 상태 \n",
        "    result = rectangle_x * rectangle_y\n",
        "    return result\n",
        "    \n",
        "rectangle_x = 2\n",
        "rectangle_y = 4\n",
        "calculrate_rectangle_area(rectangle_x, rectangle_y)"
      ]
    },
    {
      "cell_type": "code",
      "execution_count": null,
      "metadata": {
        "id": "_k-6p_1UmWul",
        "outputId": "ba3af065-02bf-461d-8240-b3f772076e9e"
      },
      "outputs": [
        {
          "data": {
            "text/plain": [
              "15"
            ]
          },
          "execution_count": 41,
          "metadata": {},
          "output_type": "execute_result"
        }
      ],
      "source": [
        "calculrate_rectangle_area()"
      ]
    },
    {
      "cell_type": "code",
      "execution_count": null,
      "metadata": {
        "id": "cqKburZjmWum",
        "outputId": "b6dabe67-841f-444c-da71-6abd1278dffc"
      },
      "outputs": [
        {
          "data": {
            "text/plain": [
              "40"
            ]
          },
          "execution_count": 42,
          "metadata": {},
          "output_type": "execute_result"
        }
      ],
      "source": [
        "calculrate_rectangle_area(10, rectangle_y)"
      ]
    },
    {
      "cell_type": "code",
      "execution_count": null,
      "metadata": {
        "colab": {
          "base_uri": "https://localhost:8080/"
        },
        "id": "uLhkyixGi1Ag",
        "outputId": "4ef3b5c7-9477-4013-ca1a-b4d00944ae9c"
      },
      "outputs": [
        {
          "name": "stdout",
          "output_type": "stream",
          "text": [
            "Value: 10\n",
            "Value: 20\n"
          ]
        }
      ],
      "source": [
        "# 15. 다음 코드의 실행 결과를 쓰시오.\n",
        "def exam_func():# 매개변수?????\n",
        "    x = 10\n",
        "    print(\"Value:\", x)\n",
        "\n",
        "x = 20\n",
        "exam_func()\n",
        "print(\"Value:\", x)"
      ]
    },
    {
      "cell_type": "code",
      "execution_count": null,
      "metadata": {
        "id": "3Y-m-E3fmWum",
        "outputId": "118cb079-ea84-437f-be68-19e4c33072de"
      },
      "outputs": [
        {
          "name": "stdout",
          "output_type": "stream",
          "text": [
            "Value: 10\n",
            "Value: 10\n"
          ]
        }
      ],
      "source": [
        "# 15. 다음 코드의 실행 결과를 쓰시오.\n",
        "def exam_func():# 매개변수?????\n",
        "    global x \n",
        "    x = 10\n",
        "    print(\"Value:\", x)\n",
        "\n",
        "x = 20\n",
        "exam_func()\n",
        "print(\"Value:\", x)"
      ]
    },
    {
      "cell_type": "code",
      "execution_count": null,
      "metadata": {
        "id": "waCJ1R_Fi1D7"
      },
      "outputs": [],
      "source": [
        "# 16. 다음 코드의 실행 결과를 쓰고, 그 결과값이 나오는 이유를 설명하시오.\n",
        "country = [\"Korea\", \"Japan\", \"China\"]\n",
        "country.append(\"Remove\")\n",
        "# print(country.remove(\"Remove\"))\n",
        "country.remove(\"Remove\")"
      ]
    },
    {
      "cell_type": "code",
      "execution_count": null,
      "metadata": {
        "id": "yujTVREumWun",
        "outputId": "7bc47dc6-f2b7-4dfb-f969-1e5fc1693635"
      },
      "outputs": [
        {
          "data": {
            "text/plain": [
              "['Korea', 'Japan', 'China']"
            ]
          },
          "execution_count": 49,
          "metadata": {},
          "output_type": "execute_result"
        }
      ],
      "source": [
        "country"
      ]
    },
    {
      "cell_type": "code",
      "execution_count": null,
      "metadata": {
        "id": "TMwBc1gsmWun"
      },
      "outputs": [],
      "source": []
    }
  ],
  "metadata": {
    "colab": {
      "provenance": [],
      "include_colab_link": true
    },
    "kernelspec": {
      "display_name": "Python 3",
      "name": "python3"
    },
    "language_info": {
      "codemirror_mode": {
        "name": "ipython",
        "version": 3
      },
      "file_extension": ".py",
      "mimetype": "text/x-python",
      "name": "python",
      "nbconvert_exporter": "python",
      "pygments_lexer": "ipython3",
      "version": "3.10.11"
    }
  },
  "nbformat": 4,
  "nbformat_minor": 0
}