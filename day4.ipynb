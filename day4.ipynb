{
  "cells": [
    {
      "cell_type": "markdown",
      "metadata": {
        "id": "view-in-github",
        "colab_type": "text"
      },
      "source": [
        "<a href=\"https://colab.research.google.com/github/channy33/Sesac_lecture/blob/master/day4.ipynb\" target=\"_parent\"><img src=\"https://colab.research.google.com/assets/colab-badge.svg\" alt=\"Open In Colab\"/></a>"
      ]
    },
    {
      "cell_type": "markdown",
      "metadata": {
        "id": "nXL6magbXJh6"
      },
      "source": [
        "```\n",
        "1\ttreeHit = 0\n",
        "2\twhile treeHit < 10:\n",
        "3\t    treeHit = treeHit +1 \n",
        "4\t    print(f\"나무를 {treeHit}번 찍었습니다.\")\n",
        "5\t    if treeHit == 10:\n",
        "6\t        print(\"나무 넘어갑니다.\")\n",
        "```\n"
      ]
    },
    {
      "cell_type": "markdown",
      "metadata": {
        "id": "C-_txQ5wXJiF"
      },
      "source": [
        "while vs for\n",
        "- 마동석 : for 문 딱 10대만 맞자 \n",
        "- 마동석 : while 힘들면 벨눌러"
      ]
    },
    {
      "cell_type": "code",
      "execution_count": null,
      "metadata": {
        "id": "HiEJDxfsXJiH"
      },
      "outputs": [],
      "source": [
        "acc = 0\n",
        "a = 0\n",
        "while a < 10:\n",
        "    a = a+1\n",
        "    acc += a\n",
        "    print(f\"a : {a}\")\n",
        "    print(f\"acc : {acc}\")"
      ]
    },
    {
      "cell_type": "code",
      "execution_count": null,
      "metadata": {
        "id": "eu0kUiFIXJiK"
      },
      "outputs": [],
      "source": [
        "# while 문을 이용해서 2의 10제곱을 구하도록 작성해 보세요 \n",
        "a = 0\n",
        "acc = 1\n",
        "while a < 10:\n",
        "    a += 1\n",
        "    acc *= 2\n",
        "    print(f\"a : {a}\")\n",
        "    print(f\"acc : {acc}\")"
      ]
    },
    {
      "cell_type": "code",
      "execution_count": null,
      "metadata": {
        "id": "v91TLvsWXJiM"
      },
      "outputs": [],
      "source": [
        "# continue\n",
        "# 강제로 loop 를 돌게 만드는 예약어\n",
        "# 조건문의 처음으로 돌아간다 (대신 조건은 그대로 이어받음 )\n",
        "# break \n",
        "# 반복문을 빠져 나올때 사용한다. \n",
        "\n",
        "for i in range(3):\n",
        "    print(\"1\")\n",
        "    # break\n",
        "    for j in range(3):\n",
        "        print(\"2\")\n",
        "        break\n"
      ]
    },
    {
      "cell_type": "code",
      "execution_count": null,
      "metadata": {
        "id": "Vhx6hvtXXJiN"
      },
      "outputs": [],
      "source": [
        "a = 0 \n",
        "while a < 15:\n",
        "    a += 1 \n",
        "    if a< 3:\n",
        "        print(f\"{a}<3\")\n",
        "        # continue\n",
        "    if a< 10:\n",
        "        print(f\"{a}<10\")\n",
        "        # break\n",
        "    print(f\"{a}\")\n",
        "else:\n",
        "    print(\"else break\")\n",
        "\n",
        "print(\"done\")"
      ]
    },
    {
      "cell_type": "code",
      "execution_count": null,
      "metadata": {
        "id": "gVj2dAvrXJiN",
        "outputId": "ca0b4e03-a260-4fb2-abd0-ab3a4bab4207"
      },
      "outputs": [
        {
          "name": "stdout",
          "output_type": "stream",
          "text": [
            "1<3\n",
            "2<3\n",
            "3<10\n",
            "done\n"
          ]
        }
      ],
      "source": [
        "a = 0 \n",
        "while a < 15:\n",
        "    a += 1 \n",
        "    if a< 3:\n",
        "        print(f\"{a}<3\")\n",
        "        continue\n",
        "    if a< 10:\n",
        "        print(f\"{a}<10\")\n",
        "        break\n",
        "    print(f\"{a}\")\n",
        "else:\n",
        "    print(\"else break\")\n",
        "\n",
        "print(\"done\")"
      ]
    },
    {
      "cell_type": "code",
      "execution_count": null,
      "metadata": {
        "id": "fOuKUh2XXJiP"
      },
      "outputs": [],
      "source": [
        "# with \n",
        "# 어떤 연산들 사이의 작업을 수행할때 사용한다.\n",
        "# 파일 열기 open()-close()\n",
        "# save()-restore()"
      ]
    },
    {
      "cell_type": "code",
      "execution_count": null,
      "metadata": {
        "id": "fS-kbsN2XJiQ"
      },
      "outputs": [],
      "source": [
        "! echo \"hello world\" > testfile.txt"
      ]
    },
    {
      "cell_type": "code",
      "execution_count": null,
      "metadata": {
        "id": "ZNSDE-Q1XJiR"
      },
      "outputs": [],
      "source": [
        "f = open(\"./testfile.txt\",  \"w\")"
      ]
    },
    {
      "cell_type": "code",
      "execution_count": null,
      "metadata": {
        "id": "wj2ZDRWkXJiR"
      },
      "outputs": [],
      "source": [
        "f.write(\"hi\")\n",
        "f.close()"
      ]
    },
    {
      "cell_type": "code",
      "execution_count": null,
      "metadata": {
        "id": "prA5tbX-XJiS"
      },
      "outputs": [],
      "source": [
        "with open(\"./testfile.txt\", \"w\") as f:\n",
        "    f.write(\"hello~~~~\")\n",
        "# open 과 close 사이에 필요한 작업을 수행한다. \n",
        "# 동작을 수행할 때 준비작업을 수행하고, 종료시 수행하는 정리 작업을 함께 수행한다. "
      ]
    },
    {
      "cell_type": "code",
      "execution_count": null,
      "metadata": {
        "id": "ftPSAWEWXJiS"
      },
      "outputs": [],
      "source": [
        "# Try~except \n",
        "# - 프로그램에서 예외 상황이 발생하여 프로그램이 종료되는 상황 -> 에러메세지에 따라서 종료 또는 다른 문장을 수행할수 있도록 만들어준다. "
      ]
    },
    {
      "cell_type": "code",
      "execution_count": null,
      "metadata": {
        "id": "ni9iC4IyXJiT"
      },
      "outputs": [],
      "source": [
        "str_1 = \"hello world\""
      ]
    },
    {
      "cell_type": "code",
      "execution_count": null,
      "metadata": {
        "id": "xsnPYc61XJiT",
        "outputId": "746c12cf-1e44-4cb6-ceb9-1266d79592ac"
      },
      "outputs": [
        {
          "name": "stdout",
          "output_type": "stream",
          "text": [
            "ValueError 가 발생했습니다.\n",
            "숫자로 입력하세요\n"
          ]
        }
      ],
      "source": [
        "try:\n",
        "    int(str_1)\n",
        "except ValueError:\n",
        "    print(\"ValueError 가 발생했습니다.\")\n",
        "    print(\"숫자로 입력하세요\")"
      ]
    },
    {
      "cell_type": "markdown",
      "metadata": {
        "id": "aRy6Uf8hXJiU"
      },
      "source": [
        "# for or while 문으로 작성하세요 \n",
        "\n",
        "```\n",
        "2 * 1 = 2\t3 * 1 = 3\t4 * 1 = 4\t5 * 1 = 5\t6 * 1 = 6\t7 * 1 = 7\t8 * 1 = 8\t9 * 1 = 9\t \n",
        "2 * 2 = 4\t3 * 2 = 6\t4 * 2 = 8\t5 * 2 = 10\t6 * 2 = 12\t7 * 2 = 14\t8 * 2 = 16\t9 * 2 = 18\t \n",
        "2 * 3 = 6\t3 * 3 = 9\t4 * 3 = 12\t5 * 3 = 15\t6 * 3 = 18\t7 * 3 = 21\t8 * 3 = 24\t9 * 3 = 27\t \n",
        "2 * 4 = 8\t3 * 4 = 12\t4 * 4 = 16\t5 * 4 = 20\t6 * 4 = 24\t7 * 4 = 28\t8 * 4 = 32\t9 * 4 = 36\t \n",
        "2 * 5 = 10\t3 * 5 = 15\t4 * 5 = 20\t5 * 5 = 25\t6 * 5 = 30\t7 * 5 = 35\t8 * 5 = 40\t9 * 5 = 45\t \n",
        "2 * 6 = 12\t3 * 6 = 18\t4 * 6 = 24\t5 * 6 = 30\t6 * 6 = 36\t7 * 6 = 42\t8 * 6 = 48\t9 * 6 = 54\t \n",
        "2 * 7 = 14\t3 * 7 = 21\t4 * 7 = 28\t5 * 7 = 35\t6 * 7 = 42\t7 * 7 = 49\t8 * 7 = 56\t9 * 7 = 63\t \n",
        "2 * 8 = 16\t3 * 8 = 24\t4 * 8 = 32\t5 * 8 = 40\t6 * 8 = 48\t7 * 8 = 56\t8 * 8 = 64\t9 * 8 = 72\t \n",
        "2 * 9 = 18\t3 * 9 = 27\t4 * 9 = 36\t5 * 9 = 45\t6 * 9 = 54\t7 * 9 = 63\t8 * 9 = 72\t9 * 9 = 8\n",
        "```"
      ]
    },
    {
      "cell_type": "code",
      "execution_count": null,
      "metadata": {
        "id": "wpgVMda_XJiU",
        "outputId": "d7020053-0721-41a5-8f22-0b48f4268fc9"
      },
      "outputs": [
        {
          "name": "stdout",
          "output_type": "stream",
          "text": [
            "2 x 1 = 2    3 x 1 = 3    \n",
            "2 x 6 = 12   3 x 6 = 18   "
          ]
        }
      ],
      "source": [
        "# 구구단 출력\n",
        "print(\"2 x 1 = 2    \", end = \"\")\n",
        "print(\"3 x 1 = 3    \", end = \"\")\n",
        "print(\"\")\n",
        "print(\"2 x 6 = 12   \", end = \"\")\n",
        "print(\"3 x 6 = 18   \", end = \"\")"
      ]
    },
    {
      "cell_type": "code",
      "execution_count": null,
      "metadata": {
        "id": "GGdCbYDhXJiU",
        "outputId": "af67a8c5-f481-4933-a4f5-bde5e8cb9406"
      },
      "outputs": [
        {
          "name": "stdout",
          "output_type": "stream",
          "text": [
            "2 x 1 = 2\t3 x 1 = 3\t\n",
            "2 x 6 = 12\t3 x 6 = 18\t"
          ]
        }
      ],
      "source": [
        "# 구구단 출력\n",
        "print(\"2 x 1 = 2\", end = \"\\t\")\n",
        "print(\"3 x 1 = 3\", end = \"\\t\")\n",
        "print(\"\")\n",
        "print(\"2 x 6 = 12\", end = \"\\t\")\n",
        "print(\"3 x 6 = 18\", end = \"\\t\")"
      ]
    },
    {
      "cell_type": "code",
      "execution_count": null,
      "metadata": {
        "id": "Wf5badNeXJiV",
        "outputId": "1dee9a8b-4523-49cd-b426-102671e6c826"
      },
      "outputs": [
        {
          "name": "stdout",
          "output_type": "stream",
          "text": [
            "2 x 1 = 2\t3 x 1 = 3\t4 x 1 = 4\t5 x 1 = 5\t6 x 1 = 6\t7 x 1 = 7\t8 x 1 = 8\t9 x 1 = 9\t\n",
            "2 x 2 = 4\t3 x 2 = 6\t4 x 2 = 8\t5 x 2 = 10\t6 x 2 = 12\t7 x 2 = 14\t8 x 2 = 16\t9 x 2 = 18\t\n",
            "2 x 3 = 6\t3 x 3 = 9\t4 x 3 = 12\t5 x 3 = 15\t6 x 3 = 18\t7 x 3 = 21\t8 x 3 = 24\t9 x 3 = 27\t\n",
            "2 x 4 = 8\t3 x 4 = 12\t4 x 4 = 16\t5 x 4 = 20\t6 x 4 = 24\t7 x 4 = 28\t8 x 4 = 32\t9 x 4 = 36\t\n",
            "2 x 5 = 10\t3 x 5 = 15\t4 x 5 = 20\t5 x 5 = 25\t6 x 5 = 30\t7 x 5 = 35\t8 x 5 = 40\t9 x 5 = 45\t\n",
            "2 x 6 = 12\t3 x 6 = 18\t4 x 6 = 24\t5 x 6 = 30\t6 x 6 = 36\t7 x 6 = 42\t8 x 6 = 48\t9 x 6 = 54\t\n",
            "2 x 7 = 14\t3 x 7 = 21\t4 x 7 = 28\t5 x 7 = 35\t6 x 7 = 42\t7 x 7 = 49\t8 x 7 = 56\t9 x 7 = 63\t\n",
            "2 x 8 = 16\t3 x 8 = 24\t4 x 8 = 32\t5 x 8 = 40\t6 x 8 = 48\t7 x 8 = 56\t8 x 8 = 64\t9 x 8 = 72\t\n",
            "2 x 9 = 18\t3 x 9 = 27\t4 x 9 = 36\t5 x 9 = 45\t6 x 9 = 54\t7 x 9 = 63\t8 x 9 = 72\t9 x 9 = 81\t\n"
          ]
        }
      ],
      "source": [
        "for j in range(1,10):\n",
        "    for i in range(2, 10):\n",
        "        print(f\"{i} x {j} = {i*j}\", end=\"\\t\")\n",
        "    print(\"\")"
      ]
    },
    {
      "cell_type": "code",
      "execution_count": null,
      "metadata": {
        "id": "Eo1bZ-gbXJiV",
        "outputId": "77c55dd7-d82b-4fa9-d752-29c815c9414e"
      },
      "outputs": [
        {
          "name": "stdout",
          "output_type": "stream",
          "text": [
            "숫자를 맞춰 보세요\n",
            "입력한 숫자가 작습니다.\n",
            "입력한 숫자가 큽니다.\n",
            "입력한 숫자가 큽니다.\n",
            "입력한 숫자가 큽니다.\n",
            "입력한 숫자가 큽니다.\n",
            "입력한 숫자가 큽니다.\n",
            "12, 정답입니다.\n"
          ]
        }
      ],
      "source": [
        "# https://docs.python.org/3/library/random.html#random.randint\n",
        "import random\n",
        "rand_num = random.randint(1, 100)\n",
        "print(\"숫자를 맞춰 보세요\")\n",
        "user_input=int(input(\"몇일까? \"))\n",
        "\n",
        "while (user_input != rand_num):# 숫자가 틀린 경우 -> True\n",
        "    if user_input > rand_num:\n",
        "        print(\"입력한 숫자가 큽니다.\")\n",
        "    else:\n",
        "        print(\"입력한 숫자가 작습니다.\")\n",
        "    user_input=int(input(\"몇일까? \"))\n",
        "else:\n",
        "    print(f\"{user_input}, 정답입니다.\")"
      ]
    },
    {
      "cell_type": "code",
      "execution_count": null,
      "metadata": {
        "id": "EWTp2sEWXJiV",
        "outputId": "b17b9726-5a24-42af-8ec7-01fadd37d45e"
      },
      "outputs": [
        {
          "data": {
            "text/plain": [
              "84"
            ]
          },
          "execution_count": 61,
          "metadata": {},
          "output_type": "execute_result"
        }
      ],
      "source": [
        "random.randrange(1, 100+1)"
      ]
    },
    {
      "cell_type": "markdown",
      "metadata": {
        "id": "xaZ8v1eDXJiW"
      },
      "source": [
        "## 문제\n",
        "배달 프로그램 작성, 단, 구독을 거부한 가구에는 배달되지 않아야 합니다.\n",
        "\n",
        "- apart=[1001, 1002, 1003, 1004, 1005, 1006,2001, 2002, 2003, 2004, 2005, 2006, 3001, 3002, 3003, 3004, 3005, 3006, 4001, 4002, 4003, 4004, 4005, 4006]\n",
        "- 거부 세대\n",
        "    - refusal = [1001,2006,3005,4004]\n",
        "\n",
        "```\n",
        "신문 배달: 1002\n",
        "신문 배달: 1003\n",
        "신문 배달: 1004\n",
        "신문 배달: 1005\n",
        "신문 배달: 1006\n",
        "신문 배달: 2001\n",
        "신문 배달: 2002\n",
        "신문 배달: 2003\n",
        "신문 배달: 2004\n",
        "신문 배달: 2005\n",
        "신문 배달: 3001\n",
        "신문 배달: 3002\n",
        "신문 배달: 3003\n",
        "신문 배달: 3004\n",
        "신문 배달: 3006\n",
        "신문 배달: 4001\n",
        "신문 배달: 4002\n",
        "신문 배달: 4003\n",
        "신문 배달: 4005\n",
        "신문 배달: 4006\n",
        "```"
      ]
    },
    {
      "cell_type": "markdown",
      "metadata": {
        "id": "SCz0QbJbXJiW"
      },
      "source": [
        "```\n",
        "가위,바위,보: 가위\n",
        "이겼다\n",
        "가위,바위,보: 가위\n",
        "비겼습니다.\n",
        "가위,바위,보: 보\n",
        "비겼습니다.\n",
        "가위,바위,보: 가위\n",
        "비겼습니다.\n",
        "가위,바위,보: 바위\n",
        "이겼다\n",
        "가위,바위,보: 보\n",
        "이겼다\n",
        "가위,바위,보: 가위\n",
        "이겼다\n",
        "가위,바위,보: 바위\n",
        "졌다\n",
        "가위,바위,보: 모\n",
        "잘못내셨습니다.\n",
        "가위,바위,보: 보\n",
        "비겼습니다.\n",
        "승:4\n",
        "패:2\n",
        "비김:4\n",
        "```"
      ]
    },
    {
      "cell_type": "code",
      "execution_count": null,
      "metadata": {
        "id": "y3v0RQ34XJiW"
      },
      "outputs": [],
      "source": [
        "apart=[1001, 1002, 1003, 1004, 1005, 1006,2001, 2002, 2003, 2004, 2005, 2006, 3001, 3002, 3003, 3004, 3005, 3006, 4001, 4002, 4003, 4004, 4005, 4006]\n",
        "refusal = [1001,2006,3005,4004]"
      ]
    },
    {
      "cell_type": "code",
      "execution_count": null,
      "metadata": {
        "id": "T3Yoso57XJiX",
        "outputId": "dd829f4a-5d3d-4a35-c8fd-a6b31765d19a"
      },
      "outputs": [
        {
          "name": "stdout",
          "output_type": "stream",
          "text": [
            "신문 배달: 1002\n",
            "신문 배달: 1003\n",
            "신문 배달: 1004\n",
            "신문 배달: 1005\n",
            "신문 배달: 1006\n",
            "신문 배달: 2001\n",
            "신문 배달: 2002\n",
            "신문 배달: 2003\n",
            "신문 배달: 2004\n",
            "신문 배달: 2005\n",
            "신문 배달: 3001\n",
            "신문 배달: 3002\n",
            "신문 배달: 3003\n",
            "신문 배달: 3004\n",
            "신문 배달: 3006\n",
            "신문 배달: 4001\n",
            "신문 배달: 4002\n",
            "신문 배달: 4003\n",
            "신문 배달: 4005\n",
            "신문 배달: 4006\n"
          ]
        }
      ],
      "source": [
        "for door in apart:\n",
        "    if door in refusal:\n",
        "        continue\n",
        "    else:\n",
        "        print(f\"신문 배달: {door}\")"
      ]
    },
    {
      "cell_type": "code",
      "execution_count": null,
      "metadata": {
        "id": "eS_-Np76XJiX",
        "outputId": "7e20c800-0df1-447c-e226-afb44fc82572"
      },
      "outputs": [
        {
          "name": "stdout",
          "output_type": "stream",
          "text": [
            "신문 배달: 1002\n",
            "신문 배달: 1003\n",
            "신문 배달: 1004\n",
            "신문 배달: 1005\n",
            "신문 배달: 1006\n",
            "신문 배달: 2001\n",
            "신문 배달: 2002\n",
            "신문 배달: 2003\n",
            "신문 배달: 2004\n",
            "신문 배달: 2005\n",
            "신문 배달: 3001\n",
            "신문 배달: 3002\n",
            "신문 배달: 3003\n",
            "신문 배달: 3004\n",
            "신문 배달: 3006\n",
            "신문 배달: 4001\n",
            "신문 배달: 4002\n",
            "신문 배달: 4003\n",
            "신문 배달: 4005\n",
            "신문 배달: 4006\n"
          ]
        }
      ],
      "source": [
        "for door in apart:\n",
        "    if door not in refusal:\n",
        "        print(f\"신문 배달: {door}\")        "
      ]
    },
    {
      "cell_type": "code",
      "execution_count": null,
      "metadata": {
        "id": "qjSsSmXeXJiX"
      },
      "outputs": [],
      "source": [
        "# https://wikidocs.net/79\n",
        "# srp_list = []\n",
        "import random "
      ]
    },
    {
      "cell_type": "code",
      "execution_count": null,
      "metadata": {
        "id": "8yAN5DmYXJiY",
        "outputId": "2655b176-e0b4-42d7-d1c4-6587839f4a38"
      },
      "outputs": [
        {
          "data": {
            "text/plain": [
              "'보'"
            ]
          },
          "execution_count": 91,
          "metadata": {},
          "output_type": "execute_result"
        }
      ],
      "source": [
        "srp = [\"가위\", \"바위\", \"보\"]\n",
        "random.choice(srp)"
      ]
    },
    {
      "cell_type": "code",
      "execution_count": null,
      "metadata": {
        "id": "FaSuzlEqXJiY",
        "outputId": "7c49340b-0444-481d-c818-2ef8332b0937"
      },
      "outputs": [
        {
          "name": "stdout",
          "output_type": "stream",
          "text": [
            "비겼습니다.\n",
            "졌다.\n",
            "이겼다.\n",
            "비겼습니다.\n",
            "졌다.\n",
            "졌다.\n",
            "잘못내셨습니다.\n",
            "잘못내셨습니다.\n",
            "졌다.\n",
            "이겼다.\n",
            "승리 : 2\n",
            "패배 : 6\n",
            "무승부 : 2\n"
          ]
        }
      ],
      "source": [
        "srp_list = [random.choice(srp) for i in range(10)]\n",
        "win = 0\n",
        "lose = 0 \n",
        "draw = 0\n",
        "for s in srp_list:\n",
        "    user_input = input(\"가위바위보 : \")\n",
        "    if user_input == s:\n",
        "        print(\"비겼습니다.\")\n",
        "        draw += 1\n",
        "    elif user_input == \"바위\":\n",
        "        if s == \"보\":\n",
        "            print(\"졌다.\")\n",
        "            lose += 1\n",
        "        elif s == \"가위\":\n",
        "            print(\"이겼다.\")\n",
        "            win += 1\n",
        "    elif user_input == \"가위\":\n",
        "        if s == \"바위\":\n",
        "            print(\"졌다.\")\n",
        "            lose += 1\n",
        "        elif s == \"보\":\n",
        "            print(\"이겼다.\")\n",
        "            win += 1\n",
        "    elif user_input == \"보\":\n",
        "        if s == \"가위\":\n",
        "            print(\"졌다.\")\n",
        "            lose += 1\n",
        "        elif s == \"바위\":\n",
        "            print(\"이겼다.\")\n",
        "            win += 1\n",
        "    else:\n",
        "        print(\"잘못내셨습니다.\")\n",
        "        lose += 1\n",
        "print(f\"승리 : {win}\")\n",
        "print(f\"패배 : {lose}\")\n",
        "print(f\"무승부 : {draw}\")"
      ]
    },
    {
      "cell_type": "code",
      "execution_count": null,
      "metadata": {
        "id": "QxiFmC2qXJiZ",
        "outputId": "89bdd4a7-16e3-4397-aa3b-cd5186febc16"
      },
      "outputs": [
        {
          "name": "stdout",
          "output_type": "stream",
          "text": [
            "이겼다.\n",
            "이겼다.\n",
            "졌다\n",
            "비겼다\n",
            "비겼다\n",
            "졌다\n",
            "비겼다\n",
            "이겼다.\n",
            "이겼다.\n",
            "졌다\n"
          ]
        }
      ],
      "source": [
        "srp_list = [random.choice(srp) for i in range(10)]\n",
        "win = 0\n",
        "lose = 0 \n",
        "draw = 0\n",
        "for s in srp_list:\n",
        "    user_input = input(\"가위바위보 : \")\n",
        "    if (user_input == \"가위\" and s == \"보\") or (user_input == \"바위\" and s == \"가위\") or (user_input == \"보\" and s == \"바위\"):\n",
        "        print(\"이겼다.\")\n",
        "        win += 1\n",
        "    elif (user_input == s):\n",
        "        print(\"비겼다\")\n",
        "        draw += 1\n",
        "    else:\n",
        "        print(\"졌다\")\n",
        "        lose += 1\n",
        "print(f\"승리 : {win}\")\n",
        "print(f\"패배 : {lose}\")\n",
        "print(f\"무승부 : {draw}\")"
      ]
    },
    {
      "cell_type": "code",
      "execution_count": null,
      "metadata": {
        "id": "kpXNav-dXJia"
      },
      "outputs": [],
      "source": [
        "# 함수\n",
        "# f(x) = 2x\n",
        "# f(x,y) = x+y = x^2 + y^2\n",
        "# 함수 믹서기\n",
        "# 마 + 꿀 + 우유 -> 믹서기 -> 마라떼\n",
        "# 아보카도 + 바나나 + 꿀 + 우유 -> 믹서기 -> 아바\n",
        "\n",
        "# 아보카도 비빔밥\n",
        "# 갈치 짜글이 \n"
      ]
    },
    {
      "cell_type": "code",
      "execution_count": null,
      "metadata": {
        "id": "1X-IGMw8XJia"
      },
      "outputs": [],
      "source": [
        "def add(a,b):\n",
        "    c = a+b \n",
        "    return c"
      ]
    },
    {
      "cell_type": "code",
      "execution_count": null,
      "metadata": {
        "id": "EQBW2sDZXJib",
        "outputId": "b10552e6-5f3b-4843-ec7f-4ada585d05be"
      },
      "outputs": [
        {
          "data": {
            "text/plain": [
              "3"
            ]
          },
          "execution_count": 103,
          "metadata": {},
          "output_type": "execute_result"
        }
      ],
      "source": [
        "add(1,2)"
      ]
    },
    {
      "cell_type": "code",
      "execution_count": null,
      "metadata": {
        "id": "JmOOJEdmXJib",
        "outputId": "30fa03d8-434f-4220-e76c-8655529309da"
      },
      "outputs": [
        {
          "data": {
            "text/plain": [
              "function"
            ]
          },
          "execution_count": 104,
          "metadata": {},
          "output_type": "execute_result"
        }
      ],
      "source": [
        "type(add)"
      ]
    },
    {
      "cell_type": "code",
      "execution_count": null,
      "metadata": {
        "id": "B5ihIvzFXJib"
      },
      "outputs": [],
      "source": [
        "# 1,3,2, 7.... -> int\n",
        "# 3.42, 4949.2 -> float\n",
        "# [] -> list\n",
        "# fun -> function\n",
        "\n",
        "# 함수 입력, 결과\n",
        "# 입력 o, 결과 o (기본형)\n",
        "# 입력 x, 결과 o \n",
        "# 입력 o, 결과 x\n",
        "# 입력 x, 결과 x"
      ]
    },
    {
      "cell_type": "code",
      "execution_count": null,
      "metadata": {
        "id": "125MlrdeXJib"
      },
      "outputs": [],
      "source": [
        "# 입력 x, 결과 o \n",
        "def func_1():\n",
        "    result = \"hello world\"\n",
        "    return result"
      ]
    },
    {
      "cell_type": "code",
      "execution_count": null,
      "metadata": {
        "id": "eOuxUNPHXJic",
        "outputId": "0b16a1af-34fb-4e8f-a784-b77a20382e9d"
      },
      "outputs": [
        {
          "data": {
            "text/plain": [
              "'hello world'"
            ]
          },
          "execution_count": 109,
          "metadata": {},
          "output_type": "execute_result"
        }
      ],
      "source": [
        "val_1 = func_1()\n",
        "val_1"
      ]
    },
    {
      "cell_type": "code",
      "execution_count": null,
      "metadata": {
        "id": "0gTJ_xcmXJic"
      },
      "outputs": [],
      "source": [
        "def func_2(arg_1, arg_2):\n",
        "    result = arg_1 + arg_2"
      ]
    },
    {
      "cell_type": "code",
      "execution_count": null,
      "metadata": {
        "id": "NcbDNBqgXJic"
      },
      "outputs": [],
      "source": [
        "val_2 = func_2(3,4)"
      ]
    },
    {
      "cell_type": "code",
      "execution_count": null,
      "metadata": {
        "id": "NTgS7MwxXJij",
        "outputId": "edac9de7-a553-462b-992f-b0a085474127"
      },
      "outputs": [
        {
          "name": "stdout",
          "output_type": "stream",
          "text": [
            "None\n"
          ]
        }
      ],
      "source": [
        "print(val_2)"
      ]
    },
    {
      "cell_type": "code",
      "execution_count": null,
      "metadata": {
        "id": "QJjlImzqXJik"
      },
      "outputs": [],
      "source": [
        "# 입력 x, 결과 x\n",
        "def func_3():\n",
        "    result = \"hello world\""
      ]
    },
    {
      "cell_type": "code",
      "execution_count": null,
      "metadata": {
        "id": "ZEMJvQQoXJik"
      },
      "outputs": [],
      "source": [
        "func_3()"
      ]
    },
    {
      "cell_type": "code",
      "execution_count": null,
      "metadata": {
        "id": "k32qMTtnXJik"
      },
      "outputs": [],
      "source": [
        "list_1 = [1,2,3,4,5]"
      ]
    },
    {
      "cell_type": "code",
      "execution_count": null,
      "metadata": {
        "id": "R0_vjq6qXJik"
      },
      "outputs": [],
      "source": [
        "list_1.append([\"hello\", \"world\"])"
      ]
    },
    {
      "cell_type": "code",
      "execution_count": null,
      "metadata": {
        "id": "vcSckmb4XJik",
        "outputId": "2e8b7485-e990-4bb1-dadb-863cf0662888"
      },
      "outputs": [
        {
          "data": {
            "text/plain": [
              "[1, 2, 3, 4, 5, ['hello', 'world']]"
            ]
          },
          "execution_count": 119,
          "metadata": {},
          "output_type": "execute_result"
        }
      ],
      "source": [
        "list_1"
      ]
    },
    {
      "cell_type": "code",
      "execution_count": null,
      "metadata": {
        "id": "Ook_fDO9XJik"
      },
      "outputs": [],
      "source": [
        "list_2 = list_1.append([\"hi\", \"world\"])"
      ]
    },
    {
      "cell_type": "code",
      "execution_count": null,
      "metadata": {
        "id": "hHjSCCNaXJil",
        "outputId": "cc6e3b62-53cb-42cf-c4ff-57942136f64a"
      },
      "outputs": [
        {
          "name": "stdout",
          "output_type": "stream",
          "text": [
            "None\n"
          ]
        }
      ],
      "source": [
        "print(list_2)"
      ]
    },
    {
      "cell_type": "code",
      "execution_count": null,
      "metadata": {
        "id": "3Ox0SpBwXJil"
      },
      "outputs": [],
      "source": [
        "def func_4():\n",
        "    print(\"hello world\")"
      ]
    },
    {
      "cell_type": "code",
      "execution_count": null,
      "metadata": {
        "id": "JV5UaHNiXJil",
        "outputId": "dd417983-05c8-420a-f074-c014eeb4db7e"
      },
      "outputs": [
        {
          "name": "stdout",
          "output_type": "stream",
          "text": [
            "hello world\n"
          ]
        }
      ],
      "source": [
        "func_4()"
      ]
    },
    {
      "cell_type": "code",
      "execution_count": null,
      "metadata": {
        "id": "GymA7ovmXJil",
        "outputId": "b75b4267-f9b1-4237-870e-094315f01ef7"
      },
      "outputs": [
        {
          "name": "stdout",
          "output_type": "stream",
          "text": [
            "hello world\n"
          ]
        }
      ],
      "source": [
        "val_3 = func_4()"
      ]
    },
    {
      "cell_type": "code",
      "execution_count": null,
      "metadata": {
        "id": "mRE12wqDXJim",
        "outputId": "03a97e1a-e4c8-4475-d9ad-c14eaccc049a"
      },
      "outputs": [
        {
          "name": "stdout",
          "output_type": "stream",
          "text": [
            "None\n"
          ]
        }
      ],
      "source": [
        "print(val_3)"
      ]
    },
    {
      "cell_type": "code",
      "execution_count": null,
      "metadata": {
        "id": "vqg8_aMMXJim"
      },
      "outputs": [],
      "source": [
        "def swap(a,b,c):\n",
        "    return c,a,b"
      ]
    },
    {
      "cell_type": "code",
      "execution_count": null,
      "metadata": {
        "id": "XiIfo5JAXJim",
        "outputId": "b09305e6-b7d3-43b9-e968-20fbbfa4bc1a"
      },
      "outputs": [
        {
          "data": {
            "text/plain": [
              "(5, 3, 4)"
            ]
          },
          "execution_count": 129,
          "metadata": {},
          "output_type": "execute_result"
        }
      ],
      "source": [
        "swap(3,4,5)"
      ]
    },
    {
      "cell_type": "code",
      "execution_count": null,
      "metadata": {
        "id": "xNCpTpGBXJim",
        "outputId": "ec00c1bb-70f4-403a-833a-e015f872582c"
      },
      "outputs": [
        {
          "data": {
            "text/plain": [
              "(1, 3, 2)"
            ]
          },
          "execution_count": 131,
          "metadata": {},
          "output_type": "execute_result"
        }
      ],
      "source": [
        "swap(c=1, b=2, a=3) #매개변수를 지정하여 값을 입력할 수 있다. "
      ]
    },
    {
      "cell_type": "code",
      "execution_count": null,
      "metadata": {
        "id": "GvBNn6DtXJim",
        "outputId": "bedd1f4b-6ce6-48b1-ae9e-2147d9146c4c"
      },
      "outputs": [
        {
          "data": {
            "text/plain": [
              "(3, 1, 2)"
            ]
          },
          "execution_count": 133,
          "metadata": {},
          "output_type": "execute_result"
        }
      ],
      "source": [
        "swap(1, 2, 3) #매개변수를 별도로 지정하지 않는 경우."
      ]
    },
    {
      "cell_type": "markdown",
      "metadata": {
        "id": "ASPjzDNsXJim"
      },
      "source": [
        "```\n",
        "def func_1(a,b):\n",
        "    return a+b\n",
        "\n",
        "def func_2(a,b):\n",
        "    return a*b\n",
        "\n",
        "def main():\n",
        "    val_1 = 1\n",
        "    val_2 = 2\n",
        "    val_3 = func_1(val_1, val_2)\n",
        "    func_2(val_3, val_2)\n",
        "\n",
        "if __name__ == \"__main__\":\n",
        "    main()\n",
        "```"
      ]
    },
    {
      "cell_type": "markdown",
      "metadata": {
        "id": "KepBueHqXJin"
      },
      "source": [
        "print(\"hell)"
      ]
    },
    {
      "cell_type": "code",
      "execution_count": null,
      "metadata": {
        "id": "C_49LRq7XJin",
        "outputId": "c3607354-53c1-449d-ec6d-b93bde299bfd"
      },
      "outputs": [
        {
          "name": "stdout",
          "output_type": "stream",
          "text": [
            "hello world hi 어쩌구\n"
          ]
        }
      ],
      "source": [
        "print(\"hello\", \"world\", \"hi\", \"어쩌구\")"
      ]
    },
    {
      "cell_type": "code",
      "execution_count": null,
      "metadata": {
        "id": "psYYAwLDXJio"
      },
      "outputs": [],
      "source": [
        "def sum(a,b):\n",
        "    result = a+b\n",
        "    return result"
      ]
    },
    {
      "cell_type": "code",
      "execution_count": null,
      "metadata": {
        "id": "YF4pN7gKXJio",
        "outputId": "a0215668-9bb5-4b6a-ef75-6b7ef2c81408"
      },
      "outputs": [
        {
          "data": {
            "text/plain": [
              "3"
            ]
          },
          "execution_count": 139,
          "metadata": {},
          "output_type": "execute_result"
        }
      ],
      "source": [
        "sum(1,2)"
      ]
    },
    {
      "cell_type": "code",
      "execution_count": null,
      "metadata": {
        "id": "omLYLHGaXJip",
        "outputId": "44241d16-edda-4443-fbfd-9e2b11a88ef0"
      },
      "outputs": [
        {
          "ename": "TypeError",
          "evalue": "sum() takes 2 positional arguments but 4 were given",
          "output_type": "error",
          "traceback": [
            "\u001b[0;31m---------------------------------------------------------------------------\u001b[0m",
            "\u001b[0;31mTypeError\u001b[0m                                 Traceback (most recent call last)",
            "Cell \u001b[0;32mIn[140], line 1\u001b[0m\n\u001b[0;32m----> 1\u001b[0m \u001b[39msum\u001b[39;49m(\u001b[39m1\u001b[39;49m,\u001b[39m2\u001b[39;49m,\u001b[39m3\u001b[39;49m,\u001b[39m4\u001b[39;49m)\n",
            "\u001b[0;31mTypeError\u001b[0m: sum() takes 2 positional arguments but 4 were given"
          ]
        }
      ],
      "source": [
        "sum(1,2,3,4)"
      ]
    },
    {
      "cell_type": "code",
      "execution_count": null,
      "metadata": {
        "id": "np610cfPXJip"
      },
      "outputs": [],
      "source": [
        "def sum(*b):\n",
        "    return b\n"
      ]
    },
    {
      "cell_type": "code",
      "execution_count": null,
      "metadata": {
        "id": "S8paTCINXJiq",
        "outputId": "a7636e8a-4b1a-4f50-f811-74b3796ac2e1"
      },
      "outputs": [
        {
          "name": "stdout",
          "output_type": "stream",
          "text": [
            "(1, 2, 3, 4, 5)\n"
          ]
        },
        {
          "data": {
            "text/plain": [
              "(1, 2, 3, 4, 5)"
            ]
          },
          "execution_count": 142,
          "metadata": {},
          "output_type": "execute_result"
        }
      ],
      "source": [
        "sum(1,2,3,4,5)"
      ]
    },
    {
      "cell_type": "code",
      "execution_count": null,
      "metadata": {
        "id": "I_7j7gV4XJiq"
      },
      "outputs": [],
      "source": [
        "def sum(*b):\n",
        "    acc = 0\n",
        "    for i in b:\n",
        "        acc += i\n",
        "    return acc"
      ]
    },
    {
      "cell_type": "code",
      "execution_count": null,
      "metadata": {
        "id": "DFrunKIJXJiq",
        "outputId": "086bd20a-c030-414d-a3ff-4be33791a8b3"
      },
      "outputs": [
        {
          "data": {
            "text/plain": [
              "15"
            ]
          },
          "execution_count": 144,
          "metadata": {},
          "output_type": "execute_result"
        }
      ],
      "source": [
        "sum(1,2,3,4,5)"
      ]
    },
    {
      "cell_type": "code",
      "execution_count": null,
      "metadata": {
        "id": "l3NFxWXBXJir"
      },
      "outputs": [],
      "source": [
        "args = {\"a\":1,\"b\":2,\"c\":3}"
      ]
    },
    {
      "cell_type": "code",
      "execution_count": null,
      "metadata": {
        "id": "D9wcIYlKXJir",
        "outputId": "2ffaf8e8-2ce9-4247-9e80-8555f6b2aeb4"
      },
      "outputs": [
        {
          "data": {
            "text/plain": [
              "(3, 1, 2)"
            ]
          },
          "execution_count": 149,
          "metadata": {},
          "output_type": "execute_result"
        }
      ],
      "source": [
        "swap(**args)"
      ]
    },
    {
      "cell_type": "code",
      "execution_count": null,
      "metadata": {
        "id": "SRfGw0iUXJir"
      },
      "outputs": [],
      "source": [
        "# 과제\n"
      ]
    },
    {
      "cell_type": "code",
      "execution_count": null,
      "metadata": {
        "id": "KgiTsZhvXJir",
        "outputId": "b5f27061-10d9-4ea8-e1eb-a1236cda0175"
      },
      "outputs": [
        {
          "ename": "SyntaxError",
          "evalue": "invalid syntax (4024867511.py, line 5)",
          "output_type": "error",
          "traceback": [
            "\u001b[0;36m  Cell \u001b[0;32mIn[150], line 5\u001b[0;36m\u001b[0m\n\u001b[0;31m    fun_and(1,0) -> 0\u001b[0m\n\u001b[0m                 ^\u001b[0m\n\u001b[0;31mSyntaxError\u001b[0m\u001b[0;31m:\u001b[0m invalid syntax\n"
          ]
        }
      ],
      "source": [
        "def fun_and(x, y):\n",
        "    pass\n",
        "    return result\n",
        "\n",
        "fun_and(1,0) -> 0\n",
        "fun_and(0,0) -> 0\n",
        "fun_and(0,1) -> 0\n",
        "fun_and(1,1) -> 1\n",
        "\n",
        "\n",
        "def fun_or(x, y):\n",
        "    pass\n",
        "    return result\n",
        "\n",
        "fun_or(1,0) -> 1\n",
        "fun_or(0,0) -> 0\n",
        "fun_or(0,1) -> 1\n",
        "fun_or(1,1) -> 1\n",
        "\n",
        "def fun_xor(x,y):\n",
        "    # fun_and fun_or 적당하게 사용 \n",
        "    return result\n",
        "fun_xor(1,0) -> 0\n",
        "fun_xor(0,0) -> 1\n",
        "fun_xor(0,1) -> 0\n",
        "fun_xor(1,1) -> 1\n"
      ]
    },
    {
      "cell_type": "code",
      "execution_count": null,
      "metadata": {
        "id": "syqSjWmfXJir"
      },
      "outputs": [],
      "source": []
    }
  ],
  "metadata": {
    "colab": {
      "provenance": [],
      "include_colab_link": true
    },
    "kernelspec": {
      "display_name": "Python 3",
      "name": "python3"
    },
    "language_info": {
      "codemirror_mode": {
        "name": "ipython",
        "version": 3
      },
      "file_extension": ".py",
      "mimetype": "text/x-python",
      "name": "python",
      "nbconvert_exporter": "python",
      "pygments_lexer": "ipython3",
      "version": "3.10.11"
    }
  },
  "nbformat": 4,
  "nbformat_minor": 0
}